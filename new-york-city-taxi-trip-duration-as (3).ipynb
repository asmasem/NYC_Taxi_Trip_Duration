{
 "cells": [
  {
   "cell_type": "code",
   "execution_count": 1,
   "metadata": {
    "_cell_guid": "b1076dfc-b9ad-4769-8c92-a6c4dae69d19",
    "_uuid": "8f2839f25d086af736a60e9eeb907d3b93b6e0e5"
   },
   "outputs": [
    {
     "name": "stdout",
     "output_type": "stream",
     "text": [
      "['test', 'sample_submission', 'sample_submission.csv', 'test.csv', 'train.csv', 'train']\n"
     ]
    }
   ],
   "source": [
    "# This Python 3 environment comes with many helpful analytics libraries installed\n",
    "# It is defined by the kaggle/python docker image: https://github.com/kaggle/docker-python\n",
    "# For example, here's several helpful packages to load in \n",
    "\n",
    "import numpy as np # linear algebra\n",
    "import pandas as pd # data processing, CSV file I/O (e.g. pd.read_csv)\n",
    "\n",
    "# Input data files are available in the \"../input/\" directory.\n",
    "# For example, running this (by clicking run or pressing Shift+Enter) will list the files in the input directory\n",
    "\n",
    "import os\n",
    "print(os.listdir(\"../input\"))\n",
    "\n",
    "# Any results you write to the current directory are saved as output."
   ]
  },
  {
   "cell_type": "markdown",
   "metadata": {
    "_cell_guid": "79c7e3d0-c299-4dcb-8224-4455121ee9b0",
    "_uuid": "d629ff2d2480ee46fbb7e2d37f6b5fab8052498a",
    "collapsed": true
   },
   "source": [
    "Nous allons commencé par l'importation des librairies !!! :) "
   ]
  },
  {
   "cell_type": "code",
   "execution_count": 2,
   "metadata": {
    "_uuid": "d26c6811864f4cd6f5b6640a24cddedee17a7e59"
   },
   "outputs": [],
   "source": [
    "import os\n",
    "\n",
    "import matplotlib.pyplot as plt\n",
    "import numpy as np\n",
    "import pandas as pd \n",
    "import seaborn as sns \n",
    "from sklearn.model_selection import train_test_split\n",
    "from sklearn.ensemble import RandomForestClassifier\n",
    "from sklearn.metrics import accuracy_score\n",
    "from sklearn.model_selection import cross_val_score\n",
    "from sklearn.tree import DecisionTreeClassifier\n",
    "import scipy\n",
    "\n",
    "%matplotlib inline"
   ]
  },
  {
   "cell_type": "markdown",
   "metadata": {
    "_uuid": "f7d39e6294ff11159d5ae2bc21bd110d84ddbfef"
   },
   "source": [
    "Ensuite télécharger le dataset et explorer les données qu'il contient !!! "
   ]
  },
  {
   "cell_type": "code",
   "execution_count": 3,
   "metadata": {
    "_uuid": "ec8602246c78e11ed933b17d9ea0f6da1923c173"
   },
   "outputs": [],
   "source": [
    "train = pd.read_csv ('../input/train.csv')\n",
    "test = pd.read_csv ('../input/test.csv')\n",
    "sample_submission = pd.read_csv ('../input/sample_submission.csv')"
   ]
  },
  {
   "cell_type": "code",
   "execution_count": 4,
   "metadata": {
    "_uuid": "49fe4b19e62bd7730a5e39fd6cb09911ea67756f"
   },
   "outputs": [
    {
     "data": {
      "text/plain": [
       "Index(['id', 'vendor_id', 'pickup_datetime', 'dropoff_datetime',\n",
       "       'passenger_count', 'pickup_longitude', 'pickup_latitude',\n",
       "       'dropoff_longitude', 'dropoff_latitude', 'store_and_fwd_flag',\n",
       "       'trip_duration'],\n",
       "      dtype='object')"
      ]
     },
     "execution_count": 4,
     "metadata": {},
     "output_type": "execute_result"
    }
   ],
   "source": [
    "train.columns"
   ]
  },
  {
   "cell_type": "code",
   "execution_count": 5,
   "metadata": {
    "_uuid": "4c90fac390b77e829d4689f9ac2796f92cd8d4db"
   },
   "outputs": [
    {
     "data": {
      "text/plain": [
       "Index(['id', 'vendor_id', 'pickup_datetime', 'passenger_count',\n",
       "       'pickup_longitude', 'pickup_latitude', 'dropoff_longitude',\n",
       "       'dropoff_latitude', 'store_and_fwd_flag'],\n",
       "      dtype='object')"
      ]
     },
     "execution_count": 5,
     "metadata": {},
     "output_type": "execute_result"
    }
   ],
   "source": [
    "test.columns"
   ]
  },
  {
   "cell_type": "code",
   "execution_count": 6,
   "metadata": {
    "_uuid": "3fe0eb7d5bd173613e1d92df02a35b55f981d738"
   },
   "outputs": [
    {
     "data": {
      "text/plain": [
       "(1458644, 11)"
      ]
     },
     "execution_count": 6,
     "metadata": {},
     "output_type": "execute_result"
    }
   ],
   "source": [
    "train.shape"
   ]
  },
  {
   "cell_type": "code",
   "execution_count": 7,
   "metadata": {
    "_uuid": "fd3348e00a1168f92dc31196da22fe4ac86c6b8d"
   },
   "outputs": [
    {
     "data": {
      "text/plain": [
       "(625134, 9)"
      ]
     },
     "execution_count": 7,
     "metadata": {},
     "output_type": "execute_result"
    }
   ],
   "source": [
    "test.shape"
   ]
  },
  {
   "cell_type": "code",
   "execution_count": 8,
   "metadata": {
    "_uuid": "d8f84f186dc6fc1d3bcafcbdfe83e85ab3ff4d17"
   },
   "outputs": [
    {
     "data": {
      "text/html": [
       "<div>\n",
       "<style scoped>\n",
       "    .dataframe tbody tr th:only-of-type {\n",
       "        vertical-align: middle;\n",
       "    }\n",
       "\n",
       "    .dataframe tbody tr th {\n",
       "        vertical-align: top;\n",
       "    }\n",
       "\n",
       "    .dataframe thead th {\n",
       "        text-align: right;\n",
       "    }\n",
       "</style>\n",
       "<table border=\"1\" class=\"dataframe\">\n",
       "  <thead>\n",
       "    <tr style=\"text-align: right;\">\n",
       "      <th></th>\n",
       "      <th>id</th>\n",
       "      <th>vendor_id</th>\n",
       "      <th>pickup_datetime</th>\n",
       "      <th>dropoff_datetime</th>\n",
       "      <th>passenger_count</th>\n",
       "      <th>pickup_longitude</th>\n",
       "      <th>pickup_latitude</th>\n",
       "      <th>dropoff_longitude</th>\n",
       "      <th>dropoff_latitude</th>\n",
       "      <th>store_and_fwd_flag</th>\n",
       "      <th>trip_duration</th>\n",
       "    </tr>\n",
       "  </thead>\n",
       "  <tbody>\n",
       "    <tr>\n",
       "      <th>0</th>\n",
       "      <td>id2875421</td>\n",
       "      <td>2</td>\n",
       "      <td>2016-03-14 17:24:55</td>\n",
       "      <td>2016-03-14 17:32:30</td>\n",
       "      <td>1</td>\n",
       "      <td>-73.982155</td>\n",
       "      <td>40.767937</td>\n",
       "      <td>-73.964630</td>\n",
       "      <td>40.765602</td>\n",
       "      <td>N</td>\n",
       "      <td>455</td>\n",
       "    </tr>\n",
       "    <tr>\n",
       "      <th>1</th>\n",
       "      <td>id2377394</td>\n",
       "      <td>1</td>\n",
       "      <td>2016-06-12 00:43:35</td>\n",
       "      <td>2016-06-12 00:54:38</td>\n",
       "      <td>1</td>\n",
       "      <td>-73.980415</td>\n",
       "      <td>40.738564</td>\n",
       "      <td>-73.999481</td>\n",
       "      <td>40.731152</td>\n",
       "      <td>N</td>\n",
       "      <td>663</td>\n",
       "    </tr>\n",
       "    <tr>\n",
       "      <th>2</th>\n",
       "      <td>id3858529</td>\n",
       "      <td>2</td>\n",
       "      <td>2016-01-19 11:35:24</td>\n",
       "      <td>2016-01-19 12:10:48</td>\n",
       "      <td>1</td>\n",
       "      <td>-73.979027</td>\n",
       "      <td>40.763939</td>\n",
       "      <td>-74.005333</td>\n",
       "      <td>40.710087</td>\n",
       "      <td>N</td>\n",
       "      <td>2124</td>\n",
       "    </tr>\n",
       "    <tr>\n",
       "      <th>3</th>\n",
       "      <td>id3504673</td>\n",
       "      <td>2</td>\n",
       "      <td>2016-04-06 19:32:31</td>\n",
       "      <td>2016-04-06 19:39:40</td>\n",
       "      <td>1</td>\n",
       "      <td>-74.010040</td>\n",
       "      <td>40.719971</td>\n",
       "      <td>-74.012268</td>\n",
       "      <td>40.706718</td>\n",
       "      <td>N</td>\n",
       "      <td>429</td>\n",
       "    </tr>\n",
       "    <tr>\n",
       "      <th>4</th>\n",
       "      <td>id2181028</td>\n",
       "      <td>2</td>\n",
       "      <td>2016-03-26 13:30:55</td>\n",
       "      <td>2016-03-26 13:38:10</td>\n",
       "      <td>1</td>\n",
       "      <td>-73.973053</td>\n",
       "      <td>40.793209</td>\n",
       "      <td>-73.972923</td>\n",
       "      <td>40.782520</td>\n",
       "      <td>N</td>\n",
       "      <td>435</td>\n",
       "    </tr>\n",
       "  </tbody>\n",
       "</table>\n",
       "</div>"
      ],
      "text/plain": [
       "          id  vendor_id      ...      store_and_fwd_flag trip_duration\n",
       "0  id2875421          2      ...                       N           455\n",
       "1  id2377394          1      ...                       N           663\n",
       "2  id3858529          2      ...                       N          2124\n",
       "3  id3504673          2      ...                       N           429\n",
       "4  id2181028          2      ...                       N           435\n",
       "\n",
       "[5 rows x 11 columns]"
      ]
     },
     "execution_count": 8,
     "metadata": {},
     "output_type": "execute_result"
    }
   ],
   "source": [
    "train.head()"
   ]
  },
  {
   "cell_type": "code",
   "execution_count": 9,
   "metadata": {
    "_uuid": "60201adbff5351b33afa3cbd8f9a92e75a70b233"
   },
   "outputs": [
    {
     "data": {
      "text/html": [
       "<div>\n",
       "<style scoped>\n",
       "    .dataframe tbody tr th:only-of-type {\n",
       "        vertical-align: middle;\n",
       "    }\n",
       "\n",
       "    .dataframe tbody tr th {\n",
       "        vertical-align: top;\n",
       "    }\n",
       "\n",
       "    .dataframe thead th {\n",
       "        text-align: right;\n",
       "    }\n",
       "</style>\n",
       "<table border=\"1\" class=\"dataframe\">\n",
       "  <thead>\n",
       "    <tr style=\"text-align: right;\">\n",
       "      <th></th>\n",
       "      <th>id</th>\n",
       "      <th>vendor_id</th>\n",
       "      <th>pickup_datetime</th>\n",
       "      <th>dropoff_datetime</th>\n",
       "      <th>passenger_count</th>\n",
       "      <th>pickup_longitude</th>\n",
       "      <th>pickup_latitude</th>\n",
       "      <th>dropoff_longitude</th>\n",
       "      <th>dropoff_latitude</th>\n",
       "      <th>store_and_fwd_flag</th>\n",
       "      <th>trip_duration</th>\n",
       "    </tr>\n",
       "  </thead>\n",
       "  <tbody>\n",
       "    <tr>\n",
       "      <th>1458639</th>\n",
       "      <td>id2376096</td>\n",
       "      <td>2</td>\n",
       "      <td>2016-04-08 13:31:04</td>\n",
       "      <td>2016-04-08 13:44:02</td>\n",
       "      <td>4</td>\n",
       "      <td>-73.982201</td>\n",
       "      <td>40.745522</td>\n",
       "      <td>-73.994911</td>\n",
       "      <td>40.740170</td>\n",
       "      <td>N</td>\n",
       "      <td>778</td>\n",
       "    </tr>\n",
       "    <tr>\n",
       "      <th>1458640</th>\n",
       "      <td>id1049543</td>\n",
       "      <td>1</td>\n",
       "      <td>2016-01-10 07:35:15</td>\n",
       "      <td>2016-01-10 07:46:10</td>\n",
       "      <td>1</td>\n",
       "      <td>-74.000946</td>\n",
       "      <td>40.747379</td>\n",
       "      <td>-73.970184</td>\n",
       "      <td>40.796547</td>\n",
       "      <td>N</td>\n",
       "      <td>655</td>\n",
       "    </tr>\n",
       "    <tr>\n",
       "      <th>1458641</th>\n",
       "      <td>id2304944</td>\n",
       "      <td>2</td>\n",
       "      <td>2016-04-22 06:57:41</td>\n",
       "      <td>2016-04-22 07:10:25</td>\n",
       "      <td>1</td>\n",
       "      <td>-73.959129</td>\n",
       "      <td>40.768799</td>\n",
       "      <td>-74.004433</td>\n",
       "      <td>40.707371</td>\n",
       "      <td>N</td>\n",
       "      <td>764</td>\n",
       "    </tr>\n",
       "    <tr>\n",
       "      <th>1458642</th>\n",
       "      <td>id2714485</td>\n",
       "      <td>1</td>\n",
       "      <td>2016-01-05 15:56:26</td>\n",
       "      <td>2016-01-05 16:02:39</td>\n",
       "      <td>1</td>\n",
       "      <td>-73.982079</td>\n",
       "      <td>40.749062</td>\n",
       "      <td>-73.974632</td>\n",
       "      <td>40.757107</td>\n",
       "      <td>N</td>\n",
       "      <td>373</td>\n",
       "    </tr>\n",
       "    <tr>\n",
       "      <th>1458643</th>\n",
       "      <td>id1209952</td>\n",
       "      <td>1</td>\n",
       "      <td>2016-04-05 14:44:25</td>\n",
       "      <td>2016-04-05 14:47:43</td>\n",
       "      <td>1</td>\n",
       "      <td>-73.979538</td>\n",
       "      <td>40.781750</td>\n",
       "      <td>-73.972809</td>\n",
       "      <td>40.790585</td>\n",
       "      <td>N</td>\n",
       "      <td>198</td>\n",
       "    </tr>\n",
       "  </tbody>\n",
       "</table>\n",
       "</div>"
      ],
      "text/plain": [
       "                id  vendor_id      ...      store_and_fwd_flag trip_duration\n",
       "1458639  id2376096          2      ...                       N           778\n",
       "1458640  id1049543          1      ...                       N           655\n",
       "1458641  id2304944          2      ...                       N           764\n",
       "1458642  id2714485          1      ...                       N           373\n",
       "1458643  id1209952          1      ...                       N           198\n",
       "\n",
       "[5 rows x 11 columns]"
      ]
     },
     "execution_count": 9,
     "metadata": {},
     "output_type": "execute_result"
    }
   ],
   "source": [
    "train.tail()"
   ]
  },
  {
   "cell_type": "code",
   "execution_count": 10,
   "metadata": {
    "_uuid": "9fdb6f92033a5300e3229f2b54ae08a0b21c63da"
   },
   "outputs": [
    {
     "data": {
      "text/html": [
       "<div>\n",
       "<style scoped>\n",
       "    .dataframe tbody tr th:only-of-type {\n",
       "        vertical-align: middle;\n",
       "    }\n",
       "\n",
       "    .dataframe tbody tr th {\n",
       "        vertical-align: top;\n",
       "    }\n",
       "\n",
       "    .dataframe thead th {\n",
       "        text-align: right;\n",
       "    }\n",
       "</style>\n",
       "<table border=\"1\" class=\"dataframe\">\n",
       "  <thead>\n",
       "    <tr style=\"text-align: right;\">\n",
       "      <th></th>\n",
       "      <th>id</th>\n",
       "      <th>vendor_id</th>\n",
       "      <th>pickup_datetime</th>\n",
       "      <th>passenger_count</th>\n",
       "      <th>pickup_longitude</th>\n",
       "      <th>pickup_latitude</th>\n",
       "      <th>dropoff_longitude</th>\n",
       "      <th>dropoff_latitude</th>\n",
       "      <th>store_and_fwd_flag</th>\n",
       "    </tr>\n",
       "  </thead>\n",
       "  <tbody>\n",
       "    <tr>\n",
       "      <th>0</th>\n",
       "      <td>id3004672</td>\n",
       "      <td>1</td>\n",
       "      <td>2016-06-30 23:59:58</td>\n",
       "      <td>1</td>\n",
       "      <td>-73.988129</td>\n",
       "      <td>40.732029</td>\n",
       "      <td>-73.990173</td>\n",
       "      <td>40.756680</td>\n",
       "      <td>N</td>\n",
       "    </tr>\n",
       "    <tr>\n",
       "      <th>1</th>\n",
       "      <td>id3505355</td>\n",
       "      <td>1</td>\n",
       "      <td>2016-06-30 23:59:53</td>\n",
       "      <td>1</td>\n",
       "      <td>-73.964203</td>\n",
       "      <td>40.679993</td>\n",
       "      <td>-73.959808</td>\n",
       "      <td>40.655403</td>\n",
       "      <td>N</td>\n",
       "    </tr>\n",
       "    <tr>\n",
       "      <th>2</th>\n",
       "      <td>id1217141</td>\n",
       "      <td>1</td>\n",
       "      <td>2016-06-30 23:59:47</td>\n",
       "      <td>1</td>\n",
       "      <td>-73.997437</td>\n",
       "      <td>40.737583</td>\n",
       "      <td>-73.986160</td>\n",
       "      <td>40.729523</td>\n",
       "      <td>N</td>\n",
       "    </tr>\n",
       "    <tr>\n",
       "      <th>3</th>\n",
       "      <td>id2150126</td>\n",
       "      <td>2</td>\n",
       "      <td>2016-06-30 23:59:41</td>\n",
       "      <td>1</td>\n",
       "      <td>-73.956070</td>\n",
       "      <td>40.771900</td>\n",
       "      <td>-73.986427</td>\n",
       "      <td>40.730469</td>\n",
       "      <td>N</td>\n",
       "    </tr>\n",
       "    <tr>\n",
       "      <th>4</th>\n",
       "      <td>id1598245</td>\n",
       "      <td>1</td>\n",
       "      <td>2016-06-30 23:59:33</td>\n",
       "      <td>1</td>\n",
       "      <td>-73.970215</td>\n",
       "      <td>40.761475</td>\n",
       "      <td>-73.961510</td>\n",
       "      <td>40.755890</td>\n",
       "      <td>N</td>\n",
       "    </tr>\n",
       "  </tbody>\n",
       "</table>\n",
       "</div>"
      ],
      "text/plain": [
       "          id  vendor_id         ...         dropoff_latitude  store_and_fwd_flag\n",
       "0  id3004672          1         ...                40.756680                   N\n",
       "1  id3505355          1         ...                40.655403                   N\n",
       "2  id1217141          1         ...                40.729523                   N\n",
       "3  id2150126          2         ...                40.730469                   N\n",
       "4  id1598245          1         ...                40.755890                   N\n",
       "\n",
       "[5 rows x 9 columns]"
      ]
     },
     "execution_count": 10,
     "metadata": {},
     "output_type": "execute_result"
    }
   ],
   "source": [
    "test.head()"
   ]
  },
  {
   "cell_type": "code",
   "execution_count": 11,
   "metadata": {
    "_uuid": "09c0307a10050af1e1c181a8f4f276976466634f"
   },
   "outputs": [
    {
     "data": {
      "text/html": [
       "<div>\n",
       "<style scoped>\n",
       "    .dataframe tbody tr th:only-of-type {\n",
       "        vertical-align: middle;\n",
       "    }\n",
       "\n",
       "    .dataframe tbody tr th {\n",
       "        vertical-align: top;\n",
       "    }\n",
       "\n",
       "    .dataframe thead th {\n",
       "        text-align: right;\n",
       "    }\n",
       "</style>\n",
       "<table border=\"1\" class=\"dataframe\">\n",
       "  <thead>\n",
       "    <tr style=\"text-align: right;\">\n",
       "      <th></th>\n",
       "      <th>id</th>\n",
       "      <th>vendor_id</th>\n",
       "      <th>pickup_datetime</th>\n",
       "      <th>passenger_count</th>\n",
       "      <th>pickup_longitude</th>\n",
       "      <th>pickup_latitude</th>\n",
       "      <th>dropoff_longitude</th>\n",
       "      <th>dropoff_latitude</th>\n",
       "      <th>store_and_fwd_flag</th>\n",
       "    </tr>\n",
       "  </thead>\n",
       "  <tbody>\n",
       "    <tr>\n",
       "      <th>625129</th>\n",
       "      <td>id3008929</td>\n",
       "      <td>1</td>\n",
       "      <td>2016-01-01 00:02:52</td>\n",
       "      <td>1</td>\n",
       "      <td>-74.003464</td>\n",
       "      <td>40.725105</td>\n",
       "      <td>-74.001251</td>\n",
       "      <td>40.733643</td>\n",
       "      <td>N</td>\n",
       "    </tr>\n",
       "    <tr>\n",
       "      <th>625130</th>\n",
       "      <td>id3700764</td>\n",
       "      <td>1</td>\n",
       "      <td>2016-01-01 00:01:52</td>\n",
       "      <td>1</td>\n",
       "      <td>-74.006363</td>\n",
       "      <td>40.743782</td>\n",
       "      <td>-73.953407</td>\n",
       "      <td>40.782467</td>\n",
       "      <td>N</td>\n",
       "    </tr>\n",
       "    <tr>\n",
       "      <th>625131</th>\n",
       "      <td>id2568735</td>\n",
       "      <td>1</td>\n",
       "      <td>2016-01-01 00:01:24</td>\n",
       "      <td>2</td>\n",
       "      <td>-73.972267</td>\n",
       "      <td>40.759865</td>\n",
       "      <td>-73.876602</td>\n",
       "      <td>40.748665</td>\n",
       "      <td>N</td>\n",
       "    </tr>\n",
       "    <tr>\n",
       "      <th>625132</th>\n",
       "      <td>id1384355</td>\n",
       "      <td>1</td>\n",
       "      <td>2016-01-01 00:00:28</td>\n",
       "      <td>1</td>\n",
       "      <td>-73.976501</td>\n",
       "      <td>40.733562</td>\n",
       "      <td>-73.854263</td>\n",
       "      <td>40.891788</td>\n",
       "      <td>N</td>\n",
       "    </tr>\n",
       "    <tr>\n",
       "      <th>625133</th>\n",
       "      <td>id0621643</td>\n",
       "      <td>2</td>\n",
       "      <td>2016-01-01 00:00:22</td>\n",
       "      <td>2</td>\n",
       "      <td>-73.981850</td>\n",
       "      <td>40.716881</td>\n",
       "      <td>-73.969330</td>\n",
       "      <td>40.769379</td>\n",
       "      <td>N</td>\n",
       "    </tr>\n",
       "  </tbody>\n",
       "</table>\n",
       "</div>"
      ],
      "text/plain": [
       "               id         ...          store_and_fwd_flag\n",
       "625129  id3008929         ...                           N\n",
       "625130  id3700764         ...                           N\n",
       "625131  id2568735         ...                           N\n",
       "625132  id1384355         ...                           N\n",
       "625133  id0621643         ...                           N\n",
       "\n",
       "[5 rows x 9 columns]"
      ]
     },
     "execution_count": 11,
     "metadata": {},
     "output_type": "execute_result"
    }
   ],
   "source": [
    "test.tail()"
   ]
  },
  {
   "cell_type": "code",
   "execution_count": 12,
   "metadata": {
    "_uuid": "cdb7c3cb30a7617065526c9d9dad683ee83ef5cb"
   },
   "outputs": [
    {
     "name": "stdout",
     "output_type": "stream",
     "text": [
      "<class 'pandas.core.frame.DataFrame'>\n",
      "RangeIndex: 1458644 entries, 0 to 1458643\n",
      "Data columns (total 11 columns):\n",
      "id                    1458644 non-null object\n",
      "vendor_id             1458644 non-null int64\n",
      "pickup_datetime       1458644 non-null object\n",
      "dropoff_datetime      1458644 non-null object\n",
      "passenger_count       1458644 non-null int64\n",
      "pickup_longitude      1458644 non-null float64\n",
      "pickup_latitude       1458644 non-null float64\n",
      "dropoff_longitude     1458644 non-null float64\n",
      "dropoff_latitude      1458644 non-null float64\n",
      "store_and_fwd_flag    1458644 non-null object\n",
      "trip_duration         1458644 non-null int64\n",
      "dtypes: float64(4), int64(3), object(4)\n",
      "memory usage: 122.4+ MB\n"
     ]
    }
   ],
   "source": [
    "train.info()"
   ]
  },
  {
   "cell_type": "code",
   "execution_count": 13,
   "metadata": {
    "_uuid": "cfcbe735d34f1fe3241d999ac472ccfedcf3532a"
   },
   "outputs": [
    {
     "name": "stdout",
     "output_type": "stream",
     "text": [
      "<class 'pandas.core.frame.DataFrame'>\n",
      "RangeIndex: 625134 entries, 0 to 625133\n",
      "Data columns (total 9 columns):\n",
      "id                    625134 non-null object\n",
      "vendor_id             625134 non-null int64\n",
      "pickup_datetime       625134 non-null object\n",
      "passenger_count       625134 non-null int64\n",
      "pickup_longitude      625134 non-null float64\n",
      "pickup_latitude       625134 non-null float64\n",
      "dropoff_longitude     625134 non-null float64\n",
      "dropoff_latitude      625134 non-null float64\n",
      "store_and_fwd_flag    625134 non-null object\n",
      "dtypes: float64(4), int64(2), object(3)\n",
      "memory usage: 42.9+ MB\n"
     ]
    }
   ],
   "source": [
    "test.info()"
   ]
  },
  {
   "cell_type": "markdown",
   "metadata": {
    "_uuid": "8ed6b465da962e075ec4b178bfbe94f0c9dfd739"
   },
   "source": [
    "Information sur le dataFields !!! \n",
    "\n",
    "1/ id - a unique identifier for each trip\n",
    "2/ vendor_id - a code indicating the provider associated with the trip record\n",
    "3/ pickup_datetime - date and time when the meter was engaged\n",
    "4/ dropoff_datetime - date and time when the meter was disengaged\n",
    "5/ passenger_count - the number of passengers in the vehicle (driver entered value)\n",
    "6/ pickup_longitude - the longitude where the meter was engaged\n",
    "7/ pickup_latitude - the latitude where the meter was engaged\n",
    "8/ dropoff_longitude - the longitude where the meter was disengaged\n",
    "9/ dropoff_latitude - the latitude where the meter was disengaged\n",
    "10/ store_and_fwd_flag - This flag indicates whether the trip record was held in vehicle memory before sending to the vendor because the vehicle did not have a connection to the server - Y=store and forward; N=not a store and forward trip\n",
    "11/ trip_duration - duration of the trip in seconds\n",
    "\n",
    "Disclaimer: The decision was made to not remove dropoff coordinates from the dataset order to provide an expanded set of variables to use in Kernels."
   ]
  },
  {
   "cell_type": "code",
   "execution_count": 14,
   "metadata": {
    "_uuid": "e5aa604dd059a8df82d3c950ae4335d5d2ef260e"
   },
   "outputs": [
    {
     "data": {
      "text/html": [
       "<div>\n",
       "<style scoped>\n",
       "    .dataframe tbody tr th:only-of-type {\n",
       "        vertical-align: middle;\n",
       "    }\n",
       "\n",
       "    .dataframe tbody tr th {\n",
       "        vertical-align: top;\n",
       "    }\n",
       "\n",
       "    .dataframe thead th {\n",
       "        text-align: right;\n",
       "    }\n",
       "</style>\n",
       "<table border=\"1\" class=\"dataframe\">\n",
       "  <thead>\n",
       "    <tr style=\"text-align: right;\">\n",
       "      <th></th>\n",
       "      <th>vendor_id</th>\n",
       "      <th>passenger_count</th>\n",
       "      <th>pickup_longitude</th>\n",
       "      <th>pickup_latitude</th>\n",
       "      <th>dropoff_longitude</th>\n",
       "      <th>dropoff_latitude</th>\n",
       "      <th>trip_duration</th>\n",
       "    </tr>\n",
       "  </thead>\n",
       "  <tbody>\n",
       "    <tr>\n",
       "      <th>count</th>\n",
       "      <td>1.458644e+06</td>\n",
       "      <td>1.458644e+06</td>\n",
       "      <td>1.458644e+06</td>\n",
       "      <td>1.458644e+06</td>\n",
       "      <td>1.458644e+06</td>\n",
       "      <td>1.458644e+06</td>\n",
       "      <td>1.458644e+06</td>\n",
       "    </tr>\n",
       "    <tr>\n",
       "      <th>mean</th>\n",
       "      <td>1.534950e+00</td>\n",
       "      <td>1.664530e+00</td>\n",
       "      <td>-7.397349e+01</td>\n",
       "      <td>4.075092e+01</td>\n",
       "      <td>-7.397342e+01</td>\n",
       "      <td>4.075180e+01</td>\n",
       "      <td>9.594923e+02</td>\n",
       "    </tr>\n",
       "    <tr>\n",
       "      <th>std</th>\n",
       "      <td>4.987772e-01</td>\n",
       "      <td>1.314242e+00</td>\n",
       "      <td>7.090186e-02</td>\n",
       "      <td>3.288119e-02</td>\n",
       "      <td>7.064327e-02</td>\n",
       "      <td>3.589056e-02</td>\n",
       "      <td>5.237432e+03</td>\n",
       "    </tr>\n",
       "    <tr>\n",
       "      <th>min</th>\n",
       "      <td>1.000000e+00</td>\n",
       "      <td>0.000000e+00</td>\n",
       "      <td>-1.219333e+02</td>\n",
       "      <td>3.435970e+01</td>\n",
       "      <td>-1.219333e+02</td>\n",
       "      <td>3.218114e+01</td>\n",
       "      <td>1.000000e+00</td>\n",
       "    </tr>\n",
       "    <tr>\n",
       "      <th>25%</th>\n",
       "      <td>1.000000e+00</td>\n",
       "      <td>1.000000e+00</td>\n",
       "      <td>-7.399187e+01</td>\n",
       "      <td>4.073735e+01</td>\n",
       "      <td>-7.399133e+01</td>\n",
       "      <td>4.073588e+01</td>\n",
       "      <td>3.970000e+02</td>\n",
       "    </tr>\n",
       "    <tr>\n",
       "      <th>50%</th>\n",
       "      <td>2.000000e+00</td>\n",
       "      <td>1.000000e+00</td>\n",
       "      <td>-7.398174e+01</td>\n",
       "      <td>4.075410e+01</td>\n",
       "      <td>-7.397975e+01</td>\n",
       "      <td>4.075452e+01</td>\n",
       "      <td>6.620000e+02</td>\n",
       "    </tr>\n",
       "    <tr>\n",
       "      <th>75%</th>\n",
       "      <td>2.000000e+00</td>\n",
       "      <td>2.000000e+00</td>\n",
       "      <td>-7.396733e+01</td>\n",
       "      <td>4.076836e+01</td>\n",
       "      <td>-7.396301e+01</td>\n",
       "      <td>4.076981e+01</td>\n",
       "      <td>1.075000e+03</td>\n",
       "    </tr>\n",
       "    <tr>\n",
       "      <th>max</th>\n",
       "      <td>2.000000e+00</td>\n",
       "      <td>9.000000e+00</td>\n",
       "      <td>-6.133553e+01</td>\n",
       "      <td>5.188108e+01</td>\n",
       "      <td>-6.133553e+01</td>\n",
       "      <td>4.392103e+01</td>\n",
       "      <td>3.526282e+06</td>\n",
       "    </tr>\n",
       "  </tbody>\n",
       "</table>\n",
       "</div>"
      ],
      "text/plain": [
       "          vendor_id      ...        trip_duration\n",
       "count  1.458644e+06      ...         1.458644e+06\n",
       "mean   1.534950e+00      ...         9.594923e+02\n",
       "std    4.987772e-01      ...         5.237432e+03\n",
       "min    1.000000e+00      ...         1.000000e+00\n",
       "25%    1.000000e+00      ...         3.970000e+02\n",
       "50%    2.000000e+00      ...         6.620000e+02\n",
       "75%    2.000000e+00      ...         1.075000e+03\n",
       "max    2.000000e+00      ...         3.526282e+06\n",
       "\n",
       "[8 rows x 7 columns]"
      ]
     },
     "execution_count": 14,
     "metadata": {},
     "output_type": "execute_result"
    }
   ],
   "source": [
    "train.describe()"
   ]
  },
  {
   "cell_type": "markdown",
   "metadata": {
    "_uuid": "b8d9a5317ec1ad61efbb128d9672365761844638"
   },
   "source": [
    "On remarque qu'il y a existance d'une echelle ( de valeur comprise entre un x et un y) !!!"
   ]
  },
  {
   "cell_type": "code",
   "execution_count": 15,
   "metadata": {
    "_uuid": "f60eaa79af4eafe84133f02e92095a32bf8bcf79"
   },
   "outputs": [
    {
     "data": {
      "text/plain": [
       "<bound method DataFrame.select_dtypes of                 id  vendor_id      ...      store_and_fwd_flag trip_duration\n",
       "0        id2875421          2      ...                       N           455\n",
       "1        id2377394          1      ...                       N           663\n",
       "2        id3858529          2      ...                       N          2124\n",
       "3        id3504673          2      ...                       N           429\n",
       "4        id2181028          2      ...                       N           435\n",
       "5        id0801584          2      ...                       N           443\n",
       "6        id1813257          1      ...                       N           341\n",
       "7        id1324603          2      ...                       N          1551\n",
       "8        id1301050          1      ...                       N           255\n",
       "9        id0012891          2      ...                       N          1225\n",
       "10       id1436371          2      ...                       N          1274\n",
       "11       id1299289          2      ...                       N          1128\n",
       "12       id1187965          2      ...                       N          1114\n",
       "13       id0799785          2      ...                       N           260\n",
       "14       id2900608          2      ...                       N          1414\n",
       "15       id3319787          1      ...                       N           211\n",
       "16       id3379579          2      ...                       N          2316\n",
       "17       id1154431          1      ...                       N           731\n",
       "18       id3552682          1      ...                       N          1317\n",
       "19       id3390316          2      ...                       N           251\n",
       "20       id2070428          1      ...                       N           486\n",
       "21       id0809232          2      ...                       N           652\n",
       "22       id2352683          1      ...                       N           423\n",
       "23       id1603037          1      ...                       N          1163\n",
       "24       id3321406          2      ...                       N          2485\n",
       "25       id0129640          2      ...                       N          1283\n",
       "26       id3587298          1      ...                       N          1130\n",
       "27       id2104175          1      ...                       N           694\n",
       "28       id3973319          2      ...                       N           892\n",
       "29       id1410897          1      ...                       N          2331\n",
       "...            ...        ...      ...                     ...           ...\n",
       "1458614  id2061444          2      ...                       N           338\n",
       "1458615  id3182230          1      ...                       N           857\n",
       "1458616  id2822294          1      ...                       N           488\n",
       "1458617  id0820021          2      ...                       N           208\n",
       "1458618  id1046767          2      ...                       N           367\n",
       "1458619  id1083860          2      ...                       N           708\n",
       "1458620  id0694577          2      ...                       N          1162\n",
       "1458621  id3267199          2      ...                       N          2355\n",
       "1458622  id0125435          2      ...                       N           552\n",
       "1458623  id3369208          1      ...                       N           554\n",
       "1458624  id3482902          1      ...                       N           152\n",
       "1458625  id3730733          2      ...                       N          2002\n",
       "1458626  id0155863          2      ...                       N           244\n",
       "1458627  id0439281          2      ...                       N           880\n",
       "1458628  id0986544          2      ...                       N           351\n",
       "1458629  id3109086          2      ...                       N           601\n",
       "1458630  id0287353          2      ...                       N           549\n",
       "1458631  id1724231          1      ...                       N           342\n",
       "1458632  id0469946          2      ...                       N           777\n",
       "1458633  id2432342          1      ...                       N           979\n",
       "1458634  id3445276          1      ...                       N           972\n",
       "1458635  id3027038          2      ...                       N           237\n",
       "1458636  id0405770          2      ...                       N           800\n",
       "1458637  id1920898          1      ...                       N           760\n",
       "1458638  id1454193          2      ...                       N           414\n",
       "1458639  id2376096          2      ...                       N           778\n",
       "1458640  id1049543          1      ...                       N           655\n",
       "1458641  id2304944          2      ...                       N           764\n",
       "1458642  id2714485          1      ...                       N           373\n",
       "1458643  id1209952          1      ...                       N           198\n",
       "\n",
       "[1458644 rows x 11 columns]>"
      ]
     },
     "execution_count": 15,
     "metadata": {},
     "output_type": "execute_result"
    }
   ],
   "source": [
    "train.select_dtypes"
   ]
  },
  {
   "cell_type": "code",
   "execution_count": 16,
   "metadata": {
    "_uuid": "eeec2d3dcfe85c6b6dc87c92824e79108a8b0a3c"
   },
   "outputs": [
    {
     "data": {
      "text/plain": [
       "id                     object\n",
       "vendor_id               int64\n",
       "pickup_datetime        object\n",
       "dropoff_datetime       object\n",
       "passenger_count         int64\n",
       "pickup_longitude      float64\n",
       "pickup_latitude       float64\n",
       "dropoff_longitude     float64\n",
       "dropoff_latitude      float64\n",
       "store_and_fwd_flag     object\n",
       "trip_duration           int64\n",
       "dtype: object"
      ]
     },
     "execution_count": 16,
     "metadata": {},
     "output_type": "execute_result"
    }
   ],
   "source": [
    "train.dtypes"
   ]
  },
  {
   "cell_type": "code",
   "execution_count": 17,
   "metadata": {
    "_uuid": "b604cf5d640246e41ba80634455442e062a5823e"
   },
   "outputs": [
    {
     "data": {
      "text/plain": [
       "id                     object\n",
       "vendor_id               int64\n",
       "pickup_datetime        object\n",
       "passenger_count         int64\n",
       "pickup_longitude      float64\n",
       "pickup_latitude       float64\n",
       "dropoff_longitude     float64\n",
       "dropoff_latitude      float64\n",
       "store_and_fwd_flag     object\n",
       "dtype: object"
      ]
     },
     "execution_count": 17,
     "metadata": {},
     "output_type": "execute_result"
    }
   ],
   "source": [
    "test.dtypes"
   ]
  },
  {
   "cell_type": "markdown",
   "metadata": {
    "_uuid": "12f6cd27dcdaa7fb43727c5f4fdb6287eb24c232"
   },
   "source": [
    "Le dtype est un object"
   ]
  },
  {
   "cell_type": "markdown",
   "metadata": {
    "_uuid": "524a59dcfcedd28b65d8a23cb5653f8b6da1f3c8"
   },
   "source": [
    "Nous allons calculer la durée minimale et maximale d'un déplacement  dans la ville de New York !!!\n",
    "\n"
   ]
  },
  {
   "cell_type": "code",
   "execution_count": 18,
   "metadata": {
    "_uuid": "e08a3c01a7bdf2542ddf187ddb920f0979597396"
   },
   "outputs": [
    {
     "data": {
      "text/plain": [
       "1"
      ]
     },
     "execution_count": 18,
     "metadata": {},
     "output_type": "execute_result"
    }
   ],
   "source": [
    "train.trip_duration.min()"
   ]
  },
  {
   "cell_type": "code",
   "execution_count": 19,
   "metadata": {
    "_uuid": "1ff66c70928a7fa3082800c10d8b214b4f7ea802",
    "scrolled": true
   },
   "outputs": [
    {
     "data": {
      "text/plain": [
       "3526282"
      ]
     },
     "execution_count": 19,
     "metadata": {},
     "output_type": "execute_result"
    }
   ],
   "source": [
    "train.trip_duration.max()"
   ]
  },
  {
   "cell_type": "markdown",
   "metadata": {
    "_uuid": "edab46aeaf5781570d4c868f2e25c179b2c5a659"
   },
   "source": [
    "La durée minimale d'un trip à New York est compris entre 1scd et 3526282 scd !!!  "
   ]
  },
  {
   "cell_type": "code",
   "execution_count": 20,
   "metadata": {
    "_uuid": "bc62672e2b9883c53c1cdba11a5e76caf733ed9d"
   },
   "outputs": [
    {
     "data": {
      "text/plain": [
       "0    2016-03-14 17:24:55\n",
       "1    2016-06-12 00:43:35\n",
       "2    2016-01-19 11:35:24\n",
       "3    2016-04-06 19:32:31\n",
       "4    2016-03-26 13:30:55\n",
       "Name: pickup_datetime, dtype: object"
      ]
     },
     "execution_count": 20,
     "metadata": {},
     "output_type": "execute_result"
    }
   ],
   "source": [
    "train[\"pickup_datetime\"].head()"
   ]
  },
  {
   "cell_type": "code",
   "execution_count": 21,
   "metadata": {
    "_uuid": "e6808393aa99b306eb33426f7f8d0765d0df37eb"
   },
   "outputs": [
    {
     "data": {
      "text/plain": [
       "0    2016-03-14 17:32:30\n",
       "1    2016-06-12 00:54:38\n",
       "2    2016-01-19 12:10:48\n",
       "3    2016-04-06 19:39:40\n",
       "4    2016-03-26 13:38:10\n",
       "Name: dropoff_datetime, dtype: object"
      ]
     },
     "execution_count": 21,
     "metadata": {},
     "output_type": "execute_result"
    }
   ],
   "source": [
    "train[\"dropoff_datetime\"].head()"
   ]
  },
  {
   "cell_type": "code",
   "execution_count": 22,
   "metadata": {
    "_uuid": "f1108b2879dad219f65a1589aa9fe72f8496b99b"
   },
   "outputs": [
    {
     "data": {
      "text/plain": [
       "0    N\n",
       "1    N\n",
       "2    N\n",
       "3    N\n",
       "4    N\n",
       "Name: store_and_fwd_flag, dtype: object"
      ]
     },
     "execution_count": 22,
     "metadata": {},
     "output_type": "execute_result"
    }
   ],
   "source": [
    "train[\"store_and_fwd_flag\"].head()"
   ]
  },
  {
   "cell_type": "markdown",
   "metadata": {
    "_uuid": "bcf80a74018be810c902e8fa7841d060b7dbfe7b"
   },
   "source": [
    "DATA PROCESSING !!!"
   ]
  },
  {
   "cell_type": "markdown",
   "metadata": {
    "_uuid": "1dc63ae99ac1cda6c422420ff22cb622569a8f10"
   },
   "source": [
    "1/ Répartition des outliers et description du train !!!"
   ]
  },
  {
   "cell_type": "code",
   "execution_count": 23,
   "metadata": {
    "_uuid": "b4829ca353efc04a751820bca7f12d18907d79c9"
   },
   "outputs": [
    {
     "data": {
      "text/plain": [
       "<matplotlib.axes._subplots.AxesSubplot at 0x7fb9bb7e3e48>"
      ]
     },
     "execution_count": 23,
     "metadata": {},
     "output_type": "execute_result"
    },
    {
     "data": {
      "image/png": "[encoded data removed]",
      "text/plain": [
       "<Figure size 1296x504 with 1 Axes>"
      ]
     },
     "metadata": {},
     "output_type": "display_data"
    }
   ],
   "source": [
    "plt.subplots(figsize=(18,7))\n",
    "plt.title(\"outliers repartition\")\n",
    "train.boxplot()"
   ]
  },
  {
   "cell_type": "markdown",
   "metadata": {
    "_uuid": "31c95573893d7fda8cfe5ac4e4c622676d0a2d02"
   },
   "source": [
    "Après avoir vu les Outliers , le \"trip-duration\" attire le plus notre attention, nous allons nous concentré sur ce point alors !!! et checker ses valeurs qui sont inférieures à 5000 !!! :) "
   ]
  },
  {
   "cell_type": "code",
   "execution_count": 24,
   "metadata": {
    "_uuid": "39fec4225699c902d0a7adc92b2e5ef6b15698ce"
   },
   "outputs": [
    {
     "data": {
      "text/plain": [
       "<matplotlib.axes._subplots.AxesSubplot at 0x7fb9b411a588>"
      ]
     },
     "execution_count": 24,
     "metadata": {},
     "output_type": "execute_result"
    },
    {
     "data": {
      "image/png": "[encoded data removed]",
      "text/plain": [
       "<Figure size 432x288 with 1 Axes>"
      ]
     },
     "metadata": {},
     "output_type": "display_data"
    }
   ],
   "source": [
    "train.loc[train.trip_duration<5000,\"trip_duration\"].hist(bins=200,\n",
    "                                                        color= \"#FF1493\"\n",
    "                                                        )"
   ]
  },
  {
   "cell_type": "markdown",
   "metadata": {
    "_uuid": "7950125087373d77b62361a0e3d61848cdfed534"
   },
   "source": [
    "Les trip_duration font presque tous moins de 1h30, c'est donc la raison pour laquelle nous allons resté focussed sur ces valeurs "
   ]
  },
  {
   "cell_type": "code",
   "execution_count": 25,
   "metadata": {
    "_uuid": "cf5226b73a825138baf8fa6826bc2aac9f8f7cf4"
   },
   "outputs": [
    {
     "data": {
      "image/png": "[encoded data removed]",
      "text/plain": [
       "<Figure size 432x288 with 1 Axes>"
      ]
     },
     "metadata": {},
     "output_type": "display_data"
    }
   ],
   "source": [
    "train['log_trip_duration'] = np.log(train['trip_duration'])\n",
    "plt.hist(train['log_trip_duration'].values, bins=150,color= \"#A569BD\" )\n",
    "plt.xlabel('log(trip_duration)')\n",
    "plt.ylabel('number of train records')\n",
    "plt.show()"
   ]
  },
  {
   "cell_type": "markdown",
   "metadata": {
    "_uuid": "100eb71c4add3207458108388df70a5fde66cdec"
   },
   "source": [
    "Nous avons donc réaliser le log_Trip_Duration !!! "
   ]
  },
  {
   "cell_type": "code",
   "execution_count": 26,
   "metadata": {
    "_uuid": "4cd5433b0ef8da92b3dee4a0a046e2d05bcf1b47"
   },
   "outputs": [
    {
     "data": {
      "image/png": "[encoded data removed]",
      "text/plain": [
       "<Figure size 720x720 with 1 Axes>"
      ]
     },
     "metadata": {},
     "output_type": "display_data"
    }
   ],
   "source": [
    "import matplotlib.pyplot as plt \n",
    "from matplotlib import animation\n",
    "from matplotlib import cm\n",
    "import base64\n",
    "import io\n",
    "longitude = list(train.pickup_longitude) + list(train.dropoff_longitude)\n",
    "latitude = list(train.pickup_latitude) + list(train.dropoff_latitude)\n",
    "plt.figure(figsize = (10, 10))\n",
    "plt.plot(longitude,latitude,'.', alpha = 1, markersize = 25)\n",
    "plt.show()"
   ]
  },
  {
   "cell_type": "markdown",
   "metadata": {
    "_uuid": "ad9075dab79c63e5ee1286c3576eb050f0197705"
   },
   "source": [
    "2/ Les missing values et les valeurs en doubles !!"
   ]
  },
  {
   "cell_type": "code",
   "execution_count": 27,
   "metadata": {
    "_uuid": "cea282cb745c9397fe002228ec8cc22d37230d34"
   },
   "outputs": [
    {
     "data": {
      "text/plain": [
       "id                    0\n",
       "vendor_id             0\n",
       "pickup_datetime       0\n",
       "dropoff_datetime      0\n",
       "passenger_count       0\n",
       "pickup_longitude      0\n",
       "pickup_latitude       0\n",
       "dropoff_longitude     0\n",
       "dropoff_latitude      0\n",
       "store_and_fwd_flag    0\n",
       "trip_duration         0\n",
       "log_trip_duration     0\n",
       "dtype: int64"
      ]
     },
     "execution_count": 27,
     "metadata": {},
     "output_type": "execute_result"
    }
   ],
   "source": [
    "train.isnull().sum()"
   ]
  },
  {
   "cell_type": "code",
   "execution_count": 28,
   "metadata": {
    "_uuid": "29e9f106b617e1f9e73224e227785a188528d820"
   },
   "outputs": [
    {
     "data": {
      "text/plain": [
       "id                    0\n",
       "vendor_id             0\n",
       "pickup_datetime       0\n",
       "dropoff_datetime      0\n",
       "passenger_count       0\n",
       "pickup_longitude      0\n",
       "pickup_latitude       0\n",
       "dropoff_longitude     0\n",
       "dropoff_latitude      0\n",
       "store_and_fwd_flag    0\n",
       "trip_duration         0\n",
       "log_trip_duration     0\n",
       "dtype: int64"
      ]
     },
     "execution_count": 28,
     "metadata": {},
     "output_type": "execute_result"
    }
   ],
   "source": [
    "train.dropna(inplace=True)\n",
    "train.isnull().sum()"
   ]
  },
  {
   "cell_type": "markdown",
   "metadata": {
    "_uuid": "68f0cd6c7ab039a0c562e01a80297d44ca7d856f"
   },
   "source": [
    " on remarque qu'il n'y a pas de missing values on va voir alors combien de valeurs nous allions avoir !!"
   ]
  },
  {
   "cell_type": "code",
   "execution_count": 29,
   "metadata": {
    "_uuid": "91629f3971cfebb045c0fde60062a7389cbb5e9b"
   },
   "outputs": [
    {
     "name": "stdout",
     "output_type": "stream",
     "text": [
      "<class 'pandas.core.frame.DataFrame'>\n",
      "Int64Index: 1454870 entries, 0 to 1458643\n",
      "Data columns (total 12 columns):\n",
      "id                    1454870 non-null object\n",
      "vendor_id             1454870 non-null int64\n",
      "pickup_datetime       1454870 non-null object\n",
      "dropoff_datetime      1454870 non-null object\n",
      "passenger_count       1454870 non-null int64\n",
      "pickup_longitude      1454870 non-null float64\n",
      "pickup_latitude       1454870 non-null float64\n",
      "dropoff_longitude     1454870 non-null float64\n",
      "dropoff_latitude      1454870 non-null float64\n",
      "store_and_fwd_flag    1454870 non-null object\n",
      "trip_duration         1454870 non-null int64\n",
      "log_trip_duration     1454870 non-null float64\n",
      "dtypes: float64(5), int64(3), object(4)\n",
      "memory usage: 144.3+ MB\n"
     ]
    }
   ],
   "source": [
    "train = train[(train.trip_duration < 5000)]\n",
    "train.info()"
   ]
  },
  {
   "cell_type": "markdown",
   "metadata": {
    "_uuid": "685698d284553d363ba00ced7926b2cd085eaf00"
   },
   "source": [
    "Nous sommes donc passés de 1458644 à 1454870 donc moins de 3774 valeurs perdues ( innexploitables ) dans notre data training !!!"
   ]
  },
  {
   "cell_type": "markdown",
   "metadata": {
    "_uuid": "eb1afb51ef1a3fb95bb13d839241ac6368b74626"
   },
   "source": [
    "3/ Les categorical variables !!!"
   ]
  },
  {
   "cell_type": "markdown",
   "metadata": {
    "_uuid": "f4dff24e77069bfd0469aeabcda27d074be6be76"
   },
   "source": [
    "Nous avons remarqué que le temps est donné en seconds, ce qui nous arrange pas , du coup nous allons le convertir !!!"
   ]
  },
  {
   "cell_type": "code",
   "execution_count": 30,
   "metadata": {
    "_uuid": "af42043d3fa5f47d6736c671a966b5faddc33c85"
   },
   "outputs": [
    {
     "name": "stderr",
     "output_type": "stream",
     "text": [
      "/opt/conda/lib/python3.6/site-packages/ipykernel_launcher.py:1: SettingWithCopyWarning: \n",
      "A value is trying to be set on a copy of a slice from a DataFrame.\n",
      "Try using .loc[row_indexer,col_indexer] = value instead\n",
      "\n",
      "See the caveats in the documentation: http://pandas.pydata.org/pandas-docs/stable/indexing.html#indexing-view-versus-copy\n",
      "  \"\"\"Entry point for launching an IPython kernel.\n"
     ]
    }
   ],
   "source": [
    "train['pickup_datetime'] = pd.to_datetime(train['pickup_datetime'], format='%Y-%m-%d %H:%M:%S')\n",
    "test['pickup_datetime'] = pd.to_datetime(test['pickup_datetime'], format='%Y-%m-%d %H:%M:%S')"
   ]
  },
  {
   "cell_type": "code",
   "execution_count": 31,
   "metadata": {
    "_uuid": "cf8171abf76775f10082dff7b6e36acf5ae04131"
   },
   "outputs": [
    {
     "name": "stderr",
     "output_type": "stream",
     "text": [
      "/opt/conda/lib/python3.6/site-packages/ipykernel_launcher.py:1: SettingWithCopyWarning: \n",
      "A value is trying to be set on a copy of a slice from a DataFrame.\n",
      "Try using .loc[row_indexer,col_indexer] = value instead\n",
      "\n",
      "See the caveats in the documentation: http://pandas.pydata.org/pandas-docs/stable/indexing.html#indexing-view-versus-copy\n",
      "  \"\"\"Entry point for launching an IPython kernel.\n",
      "/opt/conda/lib/python3.6/site-packages/ipykernel_launcher.py:2: SettingWithCopyWarning: \n",
      "A value is trying to be set on a copy of a slice from a DataFrame.\n",
      "Try using .loc[row_indexer,col_indexer] = value instead\n",
      "\n",
      "See the caveats in the documentation: http://pandas.pydata.org/pandas-docs/stable/indexing.html#indexing-view-versus-copy\n",
      "  \n",
      "/opt/conda/lib/python3.6/site-packages/ipykernel_launcher.py:3: SettingWithCopyWarning: \n",
      "A value is trying to be set on a copy of a slice from a DataFrame.\n",
      "Try using .loc[row_indexer,col_indexer] = value instead\n",
      "\n",
      "See the caveats in the documentation: http://pandas.pydata.org/pandas-docs/stable/indexing.html#indexing-view-versus-copy\n",
      "  This is separate from the ipykernel package so we can avoid doing imports until\n",
      "/opt/conda/lib/python3.6/site-packages/ipykernel_launcher.py:4: SettingWithCopyWarning: \n",
      "A value is trying to be set on a copy of a slice from a DataFrame.\n",
      "Try using .loc[row_indexer,col_indexer] = value instead\n",
      "\n",
      "See the caveats in the documentation: http://pandas.pydata.org/pandas-docs/stable/indexing.html#indexing-view-versus-copy\n",
      "  after removing the cwd from sys.path.\n",
      "/opt/conda/lib/python3.6/site-packages/ipykernel_launcher.py:5: SettingWithCopyWarning: \n",
      "A value is trying to be set on a copy of a slice from a DataFrame.\n",
      "Try using .loc[row_indexer,col_indexer] = value instead\n",
      "\n",
      "See the caveats in the documentation: http://pandas.pydata.org/pandas-docs/stable/indexing.html#indexing-view-versus-copy\n",
      "  \"\"\"\n"
     ]
    }
   ],
   "source": [
    "train['hour'] = train.loc[:,'pickup_datetime'].dt.hour;\n",
    "train['week'] = train.loc[:,'pickup_datetime'].dt.week;\n",
    "train['weekday'] = train.loc[:,'pickup_datetime'].dt.weekday;\n",
    "train['hour'] = train.loc[:,'pickup_datetime'].dt.hour;\n",
    "train['month'] = train.loc[:,'pickup_datetime'].dt.month;"
   ]
  },
  {
   "cell_type": "code",
   "execution_count": 32,
   "metadata": {
    "_uuid": "d432b6cadda38db714d6b49f2459748afa7a68a7"
   },
   "outputs": [],
   "source": [
    "test['hour'] = test.loc[:,'pickup_datetime'].dt.hour;\n",
    "test['week'] = test.loc[:,'pickup_datetime'].dt.week;\n",
    "test['weekday'] = test.loc[:,'pickup_datetime'].dt.weekday;\n",
    "test['hour'] = test.loc[:,'pickup_datetime'].dt.hour;\n",
    "test['month'] = test.loc[:,'pickup_datetime'].dt.month;"
   ]
  },
  {
   "cell_type": "code",
   "execution_count": 33,
   "metadata": {
    "_uuid": "303c2c11d8b1be66f26cf9cfc0093695e2107637"
   },
   "outputs": [
    {
     "data": {
      "text/html": [
       "<div>\n",
       "<style scoped>\n",
       "    .dataframe tbody tr th:only-of-type {\n",
       "        vertical-align: middle;\n",
       "    }\n",
       "\n",
       "    .dataframe tbody tr th {\n",
       "        vertical-align: top;\n",
       "    }\n",
       "\n",
       "    .dataframe thead th {\n",
       "        text-align: right;\n",
       "    }\n",
       "</style>\n",
       "<table border=\"1\" class=\"dataframe\">\n",
       "  <thead>\n",
       "    <tr style=\"text-align: right;\">\n",
       "      <th></th>\n",
       "      <th>id</th>\n",
       "      <th>vendor_id</th>\n",
       "      <th>pickup_datetime</th>\n",
       "      <th>dropoff_datetime</th>\n",
       "      <th>passenger_count</th>\n",
       "      <th>pickup_longitude</th>\n",
       "      <th>pickup_latitude</th>\n",
       "      <th>dropoff_longitude</th>\n",
       "      <th>dropoff_latitude</th>\n",
       "      <th>store_and_fwd_flag</th>\n",
       "      <th>trip_duration</th>\n",
       "      <th>log_trip_duration</th>\n",
       "      <th>hour</th>\n",
       "      <th>week</th>\n",
       "      <th>weekday</th>\n",
       "      <th>month</th>\n",
       "    </tr>\n",
       "  </thead>\n",
       "  <tbody>\n",
       "    <tr>\n",
       "      <th>0</th>\n",
       "      <td>id2875421</td>\n",
       "      <td>2</td>\n",
       "      <td>2016-03-14 17:24:55</td>\n",
       "      <td>2016-03-14 17:32:30</td>\n",
       "      <td>1</td>\n",
       "      <td>-73.982155</td>\n",
       "      <td>40.767937</td>\n",
       "      <td>-73.964630</td>\n",
       "      <td>40.765602</td>\n",
       "      <td>N</td>\n",
       "      <td>455</td>\n",
       "      <td>6.120297</td>\n",
       "      <td>17</td>\n",
       "      <td>11</td>\n",
       "      <td>0</td>\n",
       "      <td>3</td>\n",
       "    </tr>\n",
       "    <tr>\n",
       "      <th>1</th>\n",
       "      <td>id2377394</td>\n",
       "      <td>1</td>\n",
       "      <td>2016-06-12 00:43:35</td>\n",
       "      <td>2016-06-12 00:54:38</td>\n",
       "      <td>1</td>\n",
       "      <td>-73.980415</td>\n",
       "      <td>40.738564</td>\n",
       "      <td>-73.999481</td>\n",
       "      <td>40.731152</td>\n",
       "      <td>N</td>\n",
       "      <td>663</td>\n",
       "      <td>6.496775</td>\n",
       "      <td>0</td>\n",
       "      <td>23</td>\n",
       "      <td>6</td>\n",
       "      <td>6</td>\n",
       "    </tr>\n",
       "    <tr>\n",
       "      <th>2</th>\n",
       "      <td>id3858529</td>\n",
       "      <td>2</td>\n",
       "      <td>2016-01-19 11:35:24</td>\n",
       "      <td>2016-01-19 12:10:48</td>\n",
       "      <td>1</td>\n",
       "      <td>-73.979027</td>\n",
       "      <td>40.763939</td>\n",
       "      <td>-74.005333</td>\n",
       "      <td>40.710087</td>\n",
       "      <td>N</td>\n",
       "      <td>2124</td>\n",
       "      <td>7.661056</td>\n",
       "      <td>11</td>\n",
       "      <td>3</td>\n",
       "      <td>1</td>\n",
       "      <td>1</td>\n",
       "    </tr>\n",
       "    <tr>\n",
       "      <th>3</th>\n",
       "      <td>id3504673</td>\n",
       "      <td>2</td>\n",
       "      <td>2016-04-06 19:32:31</td>\n",
       "      <td>2016-04-06 19:39:40</td>\n",
       "      <td>1</td>\n",
       "      <td>-74.010040</td>\n",
       "      <td>40.719971</td>\n",
       "      <td>-74.012268</td>\n",
       "      <td>40.706718</td>\n",
       "      <td>N</td>\n",
       "      <td>429</td>\n",
       "      <td>6.061457</td>\n",
       "      <td>19</td>\n",
       "      <td>14</td>\n",
       "      <td>2</td>\n",
       "      <td>4</td>\n",
       "    </tr>\n",
       "    <tr>\n",
       "      <th>4</th>\n",
       "      <td>id2181028</td>\n",
       "      <td>2</td>\n",
       "      <td>2016-03-26 13:30:55</td>\n",
       "      <td>2016-03-26 13:38:10</td>\n",
       "      <td>1</td>\n",
       "      <td>-73.973053</td>\n",
       "      <td>40.793209</td>\n",
       "      <td>-73.972923</td>\n",
       "      <td>40.782520</td>\n",
       "      <td>N</td>\n",
       "      <td>435</td>\n",
       "      <td>6.075346</td>\n",
       "      <td>13</td>\n",
       "      <td>12</td>\n",
       "      <td>5</td>\n",
       "      <td>3</td>\n",
       "    </tr>\n",
       "  </tbody>\n",
       "</table>\n",
       "</div>"
      ],
      "text/plain": [
       "          id  vendor_id     pickup_datetime  ...   week  weekday  month\n",
       "0  id2875421          2 2016-03-14 17:24:55  ...     11        0      3\n",
       "1  id2377394          1 2016-06-12 00:43:35  ...     23        6      6\n",
       "2  id3858529          2 2016-01-19 11:35:24  ...      3        1      1\n",
       "3  id3504673          2 2016-04-06 19:32:31  ...     14        2      4\n",
       "4  id2181028          2 2016-03-26 13:30:55  ...     12        5      3\n",
       "\n",
       "[5 rows x 16 columns]"
      ]
     },
     "execution_count": 33,
     "metadata": {},
     "output_type": "execute_result"
    }
   ],
   "source": [
    "train.head()"
   ]
  },
  {
   "cell_type": "code",
   "execution_count": 34,
   "metadata": {
    "_uuid": "5106ce881d23ab1288ea6b1e3d9348f72ca9d55c"
   },
   "outputs": [
    {
     "data": {
      "text/html": [
       "<div>\n",
       "<style scoped>\n",
       "    .dataframe tbody tr th:only-of-type {\n",
       "        vertical-align: middle;\n",
       "    }\n",
       "\n",
       "    .dataframe tbody tr th {\n",
       "        vertical-align: top;\n",
       "    }\n",
       "\n",
       "    .dataframe thead th {\n",
       "        text-align: right;\n",
       "    }\n",
       "</style>\n",
       "<table border=\"1\" class=\"dataframe\">\n",
       "  <thead>\n",
       "    <tr style=\"text-align: right;\">\n",
       "      <th></th>\n",
       "      <th>id</th>\n",
       "      <th>vendor_id</th>\n",
       "      <th>pickup_datetime</th>\n",
       "      <th>passenger_count</th>\n",
       "      <th>pickup_longitude</th>\n",
       "      <th>pickup_latitude</th>\n",
       "      <th>dropoff_longitude</th>\n",
       "      <th>dropoff_latitude</th>\n",
       "      <th>store_and_fwd_flag</th>\n",
       "      <th>hour</th>\n",
       "      <th>week</th>\n",
       "      <th>weekday</th>\n",
       "      <th>month</th>\n",
       "    </tr>\n",
       "  </thead>\n",
       "  <tbody>\n",
       "    <tr>\n",
       "      <th>0</th>\n",
       "      <td>id3004672</td>\n",
       "      <td>1</td>\n",
       "      <td>2016-06-30 23:59:58</td>\n",
       "      <td>1</td>\n",
       "      <td>-73.988129</td>\n",
       "      <td>40.732029</td>\n",
       "      <td>-73.990173</td>\n",
       "      <td>40.756680</td>\n",
       "      <td>N</td>\n",
       "      <td>23</td>\n",
       "      <td>26</td>\n",
       "      <td>3</td>\n",
       "      <td>6</td>\n",
       "    </tr>\n",
       "    <tr>\n",
       "      <th>1</th>\n",
       "      <td>id3505355</td>\n",
       "      <td>1</td>\n",
       "      <td>2016-06-30 23:59:53</td>\n",
       "      <td>1</td>\n",
       "      <td>-73.964203</td>\n",
       "      <td>40.679993</td>\n",
       "      <td>-73.959808</td>\n",
       "      <td>40.655403</td>\n",
       "      <td>N</td>\n",
       "      <td>23</td>\n",
       "      <td>26</td>\n",
       "      <td>3</td>\n",
       "      <td>6</td>\n",
       "    </tr>\n",
       "    <tr>\n",
       "      <th>2</th>\n",
       "      <td>id1217141</td>\n",
       "      <td>1</td>\n",
       "      <td>2016-06-30 23:59:47</td>\n",
       "      <td>1</td>\n",
       "      <td>-73.997437</td>\n",
       "      <td>40.737583</td>\n",
       "      <td>-73.986160</td>\n",
       "      <td>40.729523</td>\n",
       "      <td>N</td>\n",
       "      <td>23</td>\n",
       "      <td>26</td>\n",
       "      <td>3</td>\n",
       "      <td>6</td>\n",
       "    </tr>\n",
       "    <tr>\n",
       "      <th>3</th>\n",
       "      <td>id2150126</td>\n",
       "      <td>2</td>\n",
       "      <td>2016-06-30 23:59:41</td>\n",
       "      <td>1</td>\n",
       "      <td>-73.956070</td>\n",
       "      <td>40.771900</td>\n",
       "      <td>-73.986427</td>\n",
       "      <td>40.730469</td>\n",
       "      <td>N</td>\n",
       "      <td>23</td>\n",
       "      <td>26</td>\n",
       "      <td>3</td>\n",
       "      <td>6</td>\n",
       "    </tr>\n",
       "    <tr>\n",
       "      <th>4</th>\n",
       "      <td>id1598245</td>\n",
       "      <td>1</td>\n",
       "      <td>2016-06-30 23:59:33</td>\n",
       "      <td>1</td>\n",
       "      <td>-73.970215</td>\n",
       "      <td>40.761475</td>\n",
       "      <td>-73.961510</td>\n",
       "      <td>40.755890</td>\n",
       "      <td>N</td>\n",
       "      <td>23</td>\n",
       "      <td>26</td>\n",
       "      <td>3</td>\n",
       "      <td>6</td>\n",
       "    </tr>\n",
       "  </tbody>\n",
       "</table>\n",
       "</div>"
      ],
      "text/plain": [
       "          id  vendor_id     pickup_datetime  ...    week  weekday  month\n",
       "0  id3004672          1 2016-06-30 23:59:58  ...      26        3      6\n",
       "1  id3505355          1 2016-06-30 23:59:53  ...      26        3      6\n",
       "2  id1217141          1 2016-06-30 23:59:47  ...      26        3      6\n",
       "3  id2150126          2 2016-06-30 23:59:41  ...      26        3      6\n",
       "4  id1598245          1 2016-06-30 23:59:33  ...      26        3      6\n",
       "\n",
       "[5 rows x 13 columns]"
      ]
     },
     "execution_count": 34,
     "metadata": {},
     "output_type": "execute_result"
    }
   ],
   "source": [
    "test.head()"
   ]
  },
  {
   "cell_type": "code",
   "execution_count": 35,
   "metadata": {
    "_uuid": "16da91bd02143a4713f842d9f25cf5d0e4cade32"
   },
   "outputs": [
    {
     "data": {
      "text/plain": [
       "(1454870, 16)"
      ]
     },
     "execution_count": 35,
     "metadata": {},
     "output_type": "execute_result"
    }
   ],
   "source": [
    "train.shape"
   ]
  },
  {
   "cell_type": "code",
   "execution_count": 36,
   "metadata": {
    "_uuid": "955487c50351dc6c803aba92be0604cb0f9676cb"
   },
   "outputs": [
    {
     "data": {
      "text/plain": [
       "(625134, 13)"
      ]
     },
     "execution_count": 36,
     "metadata": {},
     "output_type": "execute_result"
    }
   ],
   "source": [
    "test.shape"
   ]
  },
  {
   "cell_type": "markdown",
   "metadata": {
    "_uuid": "0b25cc0f6f787de803c4f342362b89dd05a83a84"
   },
   "source": [
    "Comme remarqué tout en haut loes de l'exploration du dataset, que les variables catégoriques seront : pickup_datetime  et dropoff_datetime , parcontre store_and_fwd_flag  nous ne sera d'aucune importance mm object , d'autant plus N=not a store and forward trip !!! "
   ]
  },
  {
   "cell_type": "code",
   "execution_count": 37,
   "metadata": {
    "_uuid": "6c04bf61e063e8933bdc432ab0d133c17ba2a31c"
   },
   "outputs": [],
   "source": [
    "cat_vars = ['store_and_fwd_flag']"
   ]
  },
  {
   "cell_type": "code",
   "execution_count": 38,
   "metadata": {
    "_uuid": "d3f2a4109c3f7de69e3da41104dd5efb5e8b359a"
   },
   "outputs": [
    {
     "name": "stderr",
     "output_type": "stream",
     "text": [
      "/opt/conda/lib/python3.6/site-packages/ipykernel_launcher.py:2: SettingWithCopyWarning: \n",
      "A value is trying to be set on a copy of a slice from a DataFrame.\n",
      "Try using .loc[row_indexer,col_indexer] = value instead\n",
      "\n",
      "See the caveats in the documentation: http://pandas.pydata.org/pandas-docs/stable/indexing.html#indexing-view-versus-copy\n",
      "  \n"
     ]
    },
    {
     "data": {
      "text/html": [
       "<div>\n",
       "<style scoped>\n",
       "    .dataframe tbody tr th:only-of-type {\n",
       "        vertical-align: middle;\n",
       "    }\n",
       "\n",
       "    .dataframe tbody tr th {\n",
       "        vertical-align: top;\n",
       "    }\n",
       "\n",
       "    .dataframe thead th {\n",
       "        text-align: right;\n",
       "    }\n",
       "</style>\n",
       "<table border=\"1\" class=\"dataframe\">\n",
       "  <thead>\n",
       "    <tr style=\"text-align: right;\">\n",
       "      <th></th>\n",
       "      <th>id</th>\n",
       "      <th>vendor_id</th>\n",
       "      <th>pickup_datetime</th>\n",
       "      <th>dropoff_datetime</th>\n",
       "      <th>passenger_count</th>\n",
       "      <th>pickup_longitude</th>\n",
       "      <th>pickup_latitude</th>\n",
       "      <th>dropoff_longitude</th>\n",
       "      <th>dropoff_latitude</th>\n",
       "      <th>store_and_fwd_flag</th>\n",
       "      <th>trip_duration</th>\n",
       "      <th>log_trip_duration</th>\n",
       "      <th>hour</th>\n",
       "      <th>week</th>\n",
       "      <th>weekday</th>\n",
       "      <th>month</th>\n",
       "    </tr>\n",
       "  </thead>\n",
       "  <tbody>\n",
       "    <tr>\n",
       "      <th>0</th>\n",
       "      <td>id2875421</td>\n",
       "      <td>2</td>\n",
       "      <td>2016-03-14 17:24:55</td>\n",
       "      <td>2016-03-14 17:32:30</td>\n",
       "      <td>1</td>\n",
       "      <td>-73.982155</td>\n",
       "      <td>40.767937</td>\n",
       "      <td>-73.964630</td>\n",
       "      <td>40.765602</td>\n",
       "      <td>0</td>\n",
       "      <td>455</td>\n",
       "      <td>6.120297</td>\n",
       "      <td>17</td>\n",
       "      <td>11</td>\n",
       "      <td>0</td>\n",
       "      <td>3</td>\n",
       "    </tr>\n",
       "    <tr>\n",
       "      <th>1</th>\n",
       "      <td>id2377394</td>\n",
       "      <td>1</td>\n",
       "      <td>2016-06-12 00:43:35</td>\n",
       "      <td>2016-06-12 00:54:38</td>\n",
       "      <td>1</td>\n",
       "      <td>-73.980415</td>\n",
       "      <td>40.738564</td>\n",
       "      <td>-73.999481</td>\n",
       "      <td>40.731152</td>\n",
       "      <td>0</td>\n",
       "      <td>663</td>\n",
       "      <td>6.496775</td>\n",
       "      <td>0</td>\n",
       "      <td>23</td>\n",
       "      <td>6</td>\n",
       "      <td>6</td>\n",
       "    </tr>\n",
       "    <tr>\n",
       "      <th>2</th>\n",
       "      <td>id3858529</td>\n",
       "      <td>2</td>\n",
       "      <td>2016-01-19 11:35:24</td>\n",
       "      <td>2016-01-19 12:10:48</td>\n",
       "      <td>1</td>\n",
       "      <td>-73.979027</td>\n",
       "      <td>40.763939</td>\n",
       "      <td>-74.005333</td>\n",
       "      <td>40.710087</td>\n",
       "      <td>0</td>\n",
       "      <td>2124</td>\n",
       "      <td>7.661056</td>\n",
       "      <td>11</td>\n",
       "      <td>3</td>\n",
       "      <td>1</td>\n",
       "      <td>1</td>\n",
       "    </tr>\n",
       "    <tr>\n",
       "      <th>3</th>\n",
       "      <td>id3504673</td>\n",
       "      <td>2</td>\n",
       "      <td>2016-04-06 19:32:31</td>\n",
       "      <td>2016-04-06 19:39:40</td>\n",
       "      <td>1</td>\n",
       "      <td>-74.010040</td>\n",
       "      <td>40.719971</td>\n",
       "      <td>-74.012268</td>\n",
       "      <td>40.706718</td>\n",
       "      <td>0</td>\n",
       "      <td>429</td>\n",
       "      <td>6.061457</td>\n",
       "      <td>19</td>\n",
       "      <td>14</td>\n",
       "      <td>2</td>\n",
       "      <td>4</td>\n",
       "    </tr>\n",
       "    <tr>\n",
       "      <th>4</th>\n",
       "      <td>id2181028</td>\n",
       "      <td>2</td>\n",
       "      <td>2016-03-26 13:30:55</td>\n",
       "      <td>2016-03-26 13:38:10</td>\n",
       "      <td>1</td>\n",
       "      <td>-73.973053</td>\n",
       "      <td>40.793209</td>\n",
       "      <td>-73.972923</td>\n",
       "      <td>40.782520</td>\n",
       "      <td>0</td>\n",
       "      <td>435</td>\n",
       "      <td>6.075346</td>\n",
       "      <td>13</td>\n",
       "      <td>12</td>\n",
       "      <td>5</td>\n",
       "      <td>3</td>\n",
       "    </tr>\n",
       "  </tbody>\n",
       "</table>\n",
       "</div>"
      ],
      "text/plain": [
       "          id  vendor_id     pickup_datetime  ...   week  weekday  month\n",
       "0  id2875421          2 2016-03-14 17:24:55  ...     11        0      3\n",
       "1  id2377394          1 2016-06-12 00:43:35  ...     23        6      6\n",
       "2  id3858529          2 2016-01-19 11:35:24  ...      3        1      1\n",
       "3  id3504673          2 2016-04-06 19:32:31  ...     14        2      4\n",
       "4  id2181028          2 2016-03-26 13:30:55  ...     12        5      3\n",
       "\n",
       "[5 rows x 16 columns]"
      ]
     },
     "execution_count": 38,
     "metadata": {},
     "output_type": "execute_result"
    }
   ],
   "source": [
    "for col in cat_vars:\n",
    "    train[col] = train[col].astype('category').cat.codes\n",
    "train.head()"
   ]
  },
  {
   "cell_type": "code",
   "execution_count": 39,
   "metadata": {
    "_uuid": "5735c001e422f750954319f0cd23caa127271f49"
   },
   "outputs": [
    {
     "data": {
      "text/html": [
       "<div>\n",
       "<style scoped>\n",
       "    .dataframe tbody tr th:only-of-type {\n",
       "        vertical-align: middle;\n",
       "    }\n",
       "\n",
       "    .dataframe tbody tr th {\n",
       "        vertical-align: top;\n",
       "    }\n",
       "\n",
       "    .dataframe thead th {\n",
       "        text-align: right;\n",
       "    }\n",
       "</style>\n",
       "<table border=\"1\" class=\"dataframe\">\n",
       "  <thead>\n",
       "    <tr style=\"text-align: right;\">\n",
       "      <th></th>\n",
       "      <th>id</th>\n",
       "      <th>vendor_id</th>\n",
       "      <th>pickup_datetime</th>\n",
       "      <th>passenger_count</th>\n",
       "      <th>pickup_longitude</th>\n",
       "      <th>pickup_latitude</th>\n",
       "      <th>dropoff_longitude</th>\n",
       "      <th>dropoff_latitude</th>\n",
       "      <th>store_and_fwd_flag</th>\n",
       "      <th>hour</th>\n",
       "      <th>week</th>\n",
       "      <th>weekday</th>\n",
       "      <th>month</th>\n",
       "    </tr>\n",
       "  </thead>\n",
       "  <tbody>\n",
       "    <tr>\n",
       "      <th>0</th>\n",
       "      <td>id3004672</td>\n",
       "      <td>1</td>\n",
       "      <td>2016-06-30 23:59:58</td>\n",
       "      <td>1</td>\n",
       "      <td>-73.988129</td>\n",
       "      <td>40.732029</td>\n",
       "      <td>-73.990173</td>\n",
       "      <td>40.756680</td>\n",
       "      <td>0</td>\n",
       "      <td>23</td>\n",
       "      <td>26</td>\n",
       "      <td>3</td>\n",
       "      <td>6</td>\n",
       "    </tr>\n",
       "    <tr>\n",
       "      <th>1</th>\n",
       "      <td>id3505355</td>\n",
       "      <td>1</td>\n",
       "      <td>2016-06-30 23:59:53</td>\n",
       "      <td>1</td>\n",
       "      <td>-73.964203</td>\n",
       "      <td>40.679993</td>\n",
       "      <td>-73.959808</td>\n",
       "      <td>40.655403</td>\n",
       "      <td>0</td>\n",
       "      <td>23</td>\n",
       "      <td>26</td>\n",
       "      <td>3</td>\n",
       "      <td>6</td>\n",
       "    </tr>\n",
       "    <tr>\n",
       "      <th>2</th>\n",
       "      <td>id1217141</td>\n",
       "      <td>1</td>\n",
       "      <td>2016-06-30 23:59:47</td>\n",
       "      <td>1</td>\n",
       "      <td>-73.997437</td>\n",
       "      <td>40.737583</td>\n",
       "      <td>-73.986160</td>\n",
       "      <td>40.729523</td>\n",
       "      <td>0</td>\n",
       "      <td>23</td>\n",
       "      <td>26</td>\n",
       "      <td>3</td>\n",
       "      <td>6</td>\n",
       "    </tr>\n",
       "    <tr>\n",
       "      <th>3</th>\n",
       "      <td>id2150126</td>\n",
       "      <td>2</td>\n",
       "      <td>2016-06-30 23:59:41</td>\n",
       "      <td>1</td>\n",
       "      <td>-73.956070</td>\n",
       "      <td>40.771900</td>\n",
       "      <td>-73.986427</td>\n",
       "      <td>40.730469</td>\n",
       "      <td>0</td>\n",
       "      <td>23</td>\n",
       "      <td>26</td>\n",
       "      <td>3</td>\n",
       "      <td>6</td>\n",
       "    </tr>\n",
       "    <tr>\n",
       "      <th>4</th>\n",
       "      <td>id1598245</td>\n",
       "      <td>1</td>\n",
       "      <td>2016-06-30 23:59:33</td>\n",
       "      <td>1</td>\n",
       "      <td>-73.970215</td>\n",
       "      <td>40.761475</td>\n",
       "      <td>-73.961510</td>\n",
       "      <td>40.755890</td>\n",
       "      <td>0</td>\n",
       "      <td>23</td>\n",
       "      <td>26</td>\n",
       "      <td>3</td>\n",
       "      <td>6</td>\n",
       "    </tr>\n",
       "  </tbody>\n",
       "</table>\n",
       "</div>"
      ],
      "text/plain": [
       "          id  vendor_id     pickup_datetime  ...    week  weekday  month\n",
       "0  id3004672          1 2016-06-30 23:59:58  ...      26        3      6\n",
       "1  id3505355          1 2016-06-30 23:59:53  ...      26        3      6\n",
       "2  id1217141          1 2016-06-30 23:59:47  ...      26        3      6\n",
       "3  id2150126          2 2016-06-30 23:59:41  ...      26        3      6\n",
       "4  id1598245          1 2016-06-30 23:59:33  ...      26        3      6\n",
       "\n",
       "[5 rows x 13 columns]"
      ]
     },
     "execution_count": 39,
     "metadata": {},
     "output_type": "execute_result"
    }
   ],
   "source": [
    "for col in cat_vars:\n",
    "    test[col] = test[col].astype('category').cat.codes\n",
    "test.head()"
   ]
  },
  {
   "cell_type": "code",
   "execution_count": 40,
   "metadata": {
    "_uuid": "a3bc3f93483d9379e023bec790a71837b70a9efc"
   },
   "outputs": [
    {
     "data": {
      "text/plain": [
       "Index(['id', 'vendor_id', 'pickup_datetime', 'dropoff_datetime',\n",
       "       'passenger_count', 'pickup_longitude', 'pickup_latitude',\n",
       "       'dropoff_longitude', 'dropoff_latitude', 'store_and_fwd_flag',\n",
       "       'trip_duration', 'log_trip_duration', 'hour', 'week', 'weekday',\n",
       "       'month'],\n",
       "      dtype='object')"
      ]
     },
     "execution_count": 40,
     "metadata": {},
     "output_type": "execute_result"
    }
   ],
   "source": [
    "train.columns"
   ]
  },
  {
   "cell_type": "markdown",
   "metadata": {
    "_uuid": "9a4ec9a2dc348db5acaff127ef9a272bdb382a62"
   },
   "source": [
    "Feature engeneering"
   ]
  },
  {
   "cell_type": "markdown",
   "metadata": {
    "_uuid": "4a787e9e1dfd224acc6d56bbac5b1990bae3bf5d"
   },
   "source": [
    "Création des features à partir de notre data existante afin de train notre modele de machine learning."
   ]
  },
  {
   "cell_type": "code",
   "execution_count": 41,
   "metadata": {
    "_uuid": "c323fe9faf1d3a3ec18c5f7558654b02f25db352"
   },
   "outputs": [],
   "source": [
    "selection_train = [\"passenger_count\",\"store_and_fwd_flag\", \"pickup_longitude\", \"pickup_latitude\", \"dropoff_longitude\",\"dropoff_latitude\", \"week\", \"weekday\", \"hour\", \"month\"]\n",
    "selection_test = [\"passenger_count\",\"store_and_fwd_flag\", \"pickup_longitude\", \"pickup_latitude\", \"dropoff_longitude\",\"dropoff_latitude\", \"week\", \"weekday\", \"hour\", \"month\"]\n",
    "\n",
    "#selection_train = [\"passenger_count\",\"month\", \"weekday\", \"hour\", \"week\", \"store_and_fwd_flag\"]\n",
    "#selection_test = [\"passenger_count\", \"month\", \"weekday\", \"hour\", \"week\", \"store_and_fwd_flag\"]\n",
    "\n",
    "y_train = np.log(train[\"trip_duration\"]) # ma target \n",
    "X_train = train[selection_train] # ses features\n",
    "X_test = test[selection_test]\n"
   ]
  },
  {
   "cell_type": "code",
   "execution_count": 42,
   "metadata": {
    "_uuid": "af75668edc7a70936851b3322d11417839bd3e07"
   },
   "outputs": [
    {
     "data": {
      "text/plain": [
       "StandardScaler(copy=True, with_mean=True, with_std=True)"
      ]
     },
     "execution_count": 42,
     "metadata": {},
     "output_type": "execute_result"
    }
   ],
   "source": [
    "import numpy as np\n",
    "from sklearn.preprocessing import StandardScaler\n",
    "X = np.random.randn(10, 3)\n",
    "scaler = StandardScaler()\n",
    "scaler.fit(X)"
   ]
  },
  {
   "cell_type": "code",
   "execution_count": 43,
   "metadata": {
    "_uuid": "508657a231c19eb940cc115310597bc5ff76c4f6"
   },
   "outputs": [
    {
     "name": "stderr",
     "output_type": "stream",
     "text": [
      "/opt/conda/lib/python3.6/site-packages/sklearn/preprocessing/data.py:625: DataConversionWarning: Data with input dtype int8, int64, float64 were all converted to float64 by StandardScaler.\n",
      "  return self.partial_fit(X, y)\n",
      "/opt/conda/lib/python3.6/site-packages/sklearn/base.py:462: DataConversionWarning: Data with input dtype int8, int64, float64 were all converted to float64 by StandardScaler.\n",
      "  return self.fit(X, **fit_params).transform(X)\n",
      "/opt/conda/lib/python3.6/site-packages/ipykernel_launcher.py:3: DataConversionWarning: Data with input dtype int8, int64, float64 were all converted to float64 by StandardScaler.\n",
      "  This is separate from the ipykernel package so we can avoid doing imports until\n"
     ]
    }
   ],
   "source": [
    "scaler = StandardScaler()\n",
    "X_train_scaled = scaler.fit_transform(X_train)\n",
    "X_test_scaled = scaler.transform(X_test)"
   ]
  },
  {
   "cell_type": "code",
   "execution_count": 44,
   "metadata": {
    "_uuid": "810e7a5515c6354e4267aa771b776693f82b9f4d"
   },
   "outputs": [
    {
     "data": {
      "text/plain": [
       "((1454870, 10), (625134, 10), (1454870,))"
      ]
     },
     "execution_count": 44,
     "metadata": {},
     "output_type": "execute_result"
    }
   ],
   "source": [
    "X_train.shape, X_test.shape, y_train.shape"
   ]
  },
  {
   "cell_type": "code",
   "execution_count": 45,
   "metadata": {
    "_uuid": "285187bd9aa8b3c6108c09ca552447099d7a8ca6"
   },
   "outputs": [
    {
     "data": {
      "text/plain": [
       "0     6.120297\n",
       "1     6.496775\n",
       "2     7.661056\n",
       "3     6.061457\n",
       "4     6.075346\n",
       "5     6.093570\n",
       "6     5.831882\n",
       "7     7.346655\n",
       "8     5.541264\n",
       "9     7.110696\n",
       "10    7.149917\n",
       "11    7.028201\n",
       "12    7.015712\n",
       "13    5.560682\n",
       "14    7.254178\n",
       "15    5.351858\n",
       "16    7.747597\n",
       "17    6.594413\n",
       "18    7.183112\n",
       "19    5.525453\n",
       "Name: trip_duration, dtype: float64"
      ]
     },
     "execution_count": 45,
     "metadata": {},
     "output_type": "execute_result"
    }
   ],
   "source": [
    "y_train.head(20)"
   ]
  },
  {
   "cell_type": "code",
   "execution_count": 46,
   "metadata": {
    "_uuid": "0fcb63360a577bc52cb4092ef7cc1a131cf526c1"
   },
   "outputs": [
    {
     "data": {
      "text/html": [
       "<div>\n",
       "<style scoped>\n",
       "    .dataframe tbody tr th:only-of-type {\n",
       "        vertical-align: middle;\n",
       "    }\n",
       "\n",
       "    .dataframe tbody tr th {\n",
       "        vertical-align: top;\n",
       "    }\n",
       "\n",
       "    .dataframe thead th {\n",
       "        text-align: right;\n",
       "    }\n",
       "</style>\n",
       "<table border=\"1\" class=\"dataframe\">\n",
       "  <thead>\n",
       "    <tr style=\"text-align: right;\">\n",
       "      <th></th>\n",
       "      <th>passenger_count</th>\n",
       "      <th>store_and_fwd_flag</th>\n",
       "      <th>pickup_longitude</th>\n",
       "      <th>pickup_latitude</th>\n",
       "      <th>dropoff_longitude</th>\n",
       "      <th>dropoff_latitude</th>\n",
       "      <th>week</th>\n",
       "      <th>weekday</th>\n",
       "      <th>hour</th>\n",
       "      <th>month</th>\n",
       "    </tr>\n",
       "  </thead>\n",
       "  <tbody>\n",
       "    <tr>\n",
       "      <th>0</th>\n",
       "      <td>1</td>\n",
       "      <td>0</td>\n",
       "      <td>-73.982155</td>\n",
       "      <td>40.767937</td>\n",
       "      <td>-73.964630</td>\n",
       "      <td>40.765602</td>\n",
       "      <td>11</td>\n",
       "      <td>0</td>\n",
       "      <td>17</td>\n",
       "      <td>3</td>\n",
       "    </tr>\n",
       "    <tr>\n",
       "      <th>1</th>\n",
       "      <td>1</td>\n",
       "      <td>0</td>\n",
       "      <td>-73.980415</td>\n",
       "      <td>40.738564</td>\n",
       "      <td>-73.999481</td>\n",
       "      <td>40.731152</td>\n",
       "      <td>23</td>\n",
       "      <td>6</td>\n",
       "      <td>0</td>\n",
       "      <td>6</td>\n",
       "    </tr>\n",
       "    <tr>\n",
       "      <th>2</th>\n",
       "      <td>1</td>\n",
       "      <td>0</td>\n",
       "      <td>-73.979027</td>\n",
       "      <td>40.763939</td>\n",
       "      <td>-74.005333</td>\n",
       "      <td>40.710087</td>\n",
       "      <td>3</td>\n",
       "      <td>1</td>\n",
       "      <td>11</td>\n",
       "      <td>1</td>\n",
       "    </tr>\n",
       "    <tr>\n",
       "      <th>3</th>\n",
       "      <td>1</td>\n",
       "      <td>0</td>\n",
       "      <td>-74.010040</td>\n",
       "      <td>40.719971</td>\n",
       "      <td>-74.012268</td>\n",
       "      <td>40.706718</td>\n",
       "      <td>14</td>\n",
       "      <td>2</td>\n",
       "      <td>19</td>\n",
       "      <td>4</td>\n",
       "    </tr>\n",
       "    <tr>\n",
       "      <th>4</th>\n",
       "      <td>1</td>\n",
       "      <td>0</td>\n",
       "      <td>-73.973053</td>\n",
       "      <td>40.793209</td>\n",
       "      <td>-73.972923</td>\n",
       "      <td>40.782520</td>\n",
       "      <td>12</td>\n",
       "      <td>5</td>\n",
       "      <td>13</td>\n",
       "      <td>3</td>\n",
       "    </tr>\n",
       "    <tr>\n",
       "      <th>5</th>\n",
       "      <td>6</td>\n",
       "      <td>0</td>\n",
       "      <td>-73.982857</td>\n",
       "      <td>40.742195</td>\n",
       "      <td>-73.992081</td>\n",
       "      <td>40.749184</td>\n",
       "      <td>4</td>\n",
       "      <td>5</td>\n",
       "      <td>22</td>\n",
       "      <td>1</td>\n",
       "    </tr>\n",
       "    <tr>\n",
       "      <th>6</th>\n",
       "      <td>4</td>\n",
       "      <td>0</td>\n",
       "      <td>-73.969017</td>\n",
       "      <td>40.757839</td>\n",
       "      <td>-73.957405</td>\n",
       "      <td>40.765896</td>\n",
       "      <td>24</td>\n",
       "      <td>4</td>\n",
       "      <td>22</td>\n",
       "      <td>6</td>\n",
       "    </tr>\n",
       "    <tr>\n",
       "      <th>7</th>\n",
       "      <td>1</td>\n",
       "      <td>0</td>\n",
       "      <td>-73.969276</td>\n",
       "      <td>40.797779</td>\n",
       "      <td>-73.922470</td>\n",
       "      <td>40.760559</td>\n",
       "      <td>20</td>\n",
       "      <td>5</td>\n",
       "      <td>7</td>\n",
       "      <td>5</td>\n",
       "    </tr>\n",
       "    <tr>\n",
       "      <th>8</th>\n",
       "      <td>1</td>\n",
       "      <td>0</td>\n",
       "      <td>-73.999481</td>\n",
       "      <td>40.738400</td>\n",
       "      <td>-73.985786</td>\n",
       "      <td>40.732815</td>\n",
       "      <td>21</td>\n",
       "      <td>4</td>\n",
       "      <td>23</td>\n",
       "      <td>5</td>\n",
       "    </tr>\n",
       "    <tr>\n",
       "      <th>9</th>\n",
       "      <td>1</td>\n",
       "      <td>0</td>\n",
       "      <td>-73.981049</td>\n",
       "      <td>40.744339</td>\n",
       "      <td>-73.973000</td>\n",
       "      <td>40.789989</td>\n",
       "      <td>10</td>\n",
       "      <td>3</td>\n",
       "      <td>21</td>\n",
       "      <td>3</td>\n",
       "    </tr>\n",
       "    <tr>\n",
       "      <th>10</th>\n",
       "      <td>1</td>\n",
       "      <td>0</td>\n",
       "      <td>-73.982651</td>\n",
       "      <td>40.763840</td>\n",
       "      <td>-74.002228</td>\n",
       "      <td>40.732990</td>\n",
       "      <td>19</td>\n",
       "      <td>1</td>\n",
       "      <td>22</td>\n",
       "      <td>5</td>\n",
       "    </tr>\n",
       "    <tr>\n",
       "      <th>11</th>\n",
       "      <td>4</td>\n",
       "      <td>0</td>\n",
       "      <td>-73.991531</td>\n",
       "      <td>40.749439</td>\n",
       "      <td>-73.956543</td>\n",
       "      <td>40.770630</td>\n",
       "      <td>19</td>\n",
       "      <td>6</td>\n",
       "      <td>11</td>\n",
       "      <td>5</td>\n",
       "    </tr>\n",
       "    <tr>\n",
       "      <th>12</th>\n",
       "      <td>2</td>\n",
       "      <td>0</td>\n",
       "      <td>-73.962982</td>\n",
       "      <td>40.756680</td>\n",
       "      <td>-73.984406</td>\n",
       "      <td>40.760719</td>\n",
       "      <td>7</td>\n",
       "      <td>4</td>\n",
       "      <td>9</td>\n",
       "      <td>2</td>\n",
       "    </tr>\n",
       "    <tr>\n",
       "      <th>13</th>\n",
       "      <td>1</td>\n",
       "      <td>0</td>\n",
       "      <td>-73.956306</td>\n",
       "      <td>40.767941</td>\n",
       "      <td>-73.966110</td>\n",
       "      <td>40.763000</td>\n",
       "      <td>22</td>\n",
       "      <td>2</td>\n",
       "      <td>20</td>\n",
       "      <td>6</td>\n",
       "    </tr>\n",
       "    <tr>\n",
       "      <th>14</th>\n",
       "      <td>1</td>\n",
       "      <td>0</td>\n",
       "      <td>-73.992195</td>\n",
       "      <td>40.727226</td>\n",
       "      <td>-73.974655</td>\n",
       "      <td>40.783070</td>\n",
       "      <td>21</td>\n",
       "      <td>4</td>\n",
       "      <td>0</td>\n",
       "      <td>5</td>\n",
       "    </tr>\n",
       "    <tr>\n",
       "      <th>15</th>\n",
       "      <td>1</td>\n",
       "      <td>0</td>\n",
       "      <td>-73.955513</td>\n",
       "      <td>40.768593</td>\n",
       "      <td>-73.948761</td>\n",
       "      <td>40.771545</td>\n",
       "      <td>20</td>\n",
       "      <td>0</td>\n",
       "      <td>15</td>\n",
       "      <td>5</td>\n",
       "    </tr>\n",
       "    <tr>\n",
       "      <th>16</th>\n",
       "      <td>1</td>\n",
       "      <td>0</td>\n",
       "      <td>-73.991165</td>\n",
       "      <td>40.755562</td>\n",
       "      <td>-73.999290</td>\n",
       "      <td>40.725353</td>\n",
       "      <td>15</td>\n",
       "      <td>0</td>\n",
       "      <td>17</td>\n",
       "      <td>4</td>\n",
       "    </tr>\n",
       "    <tr>\n",
       "      <th>17</th>\n",
       "      <td>1</td>\n",
       "      <td>0</td>\n",
       "      <td>-73.994255</td>\n",
       "      <td>40.745804</td>\n",
       "      <td>-73.999657</td>\n",
       "      <td>40.723343</td>\n",
       "      <td>15</td>\n",
       "      <td>3</td>\n",
       "      <td>8</td>\n",
       "      <td>4</td>\n",
       "    </tr>\n",
       "    <tr>\n",
       "      <th>18</th>\n",
       "      <td>1</td>\n",
       "      <td>0</td>\n",
       "      <td>-74.003983</td>\n",
       "      <td>40.713013</td>\n",
       "      <td>-73.979195</td>\n",
       "      <td>40.749924</td>\n",
       "      <td>26</td>\n",
       "      <td>0</td>\n",
       "      <td>9</td>\n",
       "      <td>6</td>\n",
       "    </tr>\n",
       "    <tr>\n",
       "      <th>19</th>\n",
       "      <td>1</td>\n",
       "      <td>0</td>\n",
       "      <td>-73.983887</td>\n",
       "      <td>40.738197</td>\n",
       "      <td>-73.991203</td>\n",
       "      <td>40.727871</td>\n",
       "      <td>22</td>\n",
       "      <td>6</td>\n",
       "      <td>13</td>\n",
       "      <td>6</td>\n",
       "    </tr>\n",
       "  </tbody>\n",
       "</table>\n",
       "</div>"
      ],
      "text/plain": [
       "    passenger_count  store_and_fwd_flag  ...    hour  month\n",
       "0                 1                   0  ...      17      3\n",
       "1                 1                   0  ...       0      6\n",
       "2                 1                   0  ...      11      1\n",
       "3                 1                   0  ...      19      4\n",
       "4                 1                   0  ...      13      3\n",
       "5                 6                   0  ...      22      1\n",
       "6                 4                   0  ...      22      6\n",
       "7                 1                   0  ...       7      5\n",
       "8                 1                   0  ...      23      5\n",
       "9                 1                   0  ...      21      3\n",
       "10                1                   0  ...      22      5\n",
       "11                4                   0  ...      11      5\n",
       "12                2                   0  ...       9      2\n",
       "13                1                   0  ...      20      6\n",
       "14                1                   0  ...       0      5\n",
       "15                1                   0  ...      15      5\n",
       "16                1                   0  ...      17      4\n",
       "17                1                   0  ...       8      4\n",
       "18                1                   0  ...       9      6\n",
       "19                1                   0  ...      13      6\n",
       "\n",
       "[20 rows x 10 columns]"
      ]
     },
     "execution_count": 46,
     "metadata": {},
     "output_type": "execute_result"
    }
   ],
   "source": [
    "X_train.head(20)"
   ]
  },
  {
   "cell_type": "code",
   "execution_count": 47,
   "metadata": {
    "_uuid": "ec4af30d9666b50d9d9b93b769415d2f3043cb53",
    "scrolled": false
   },
   "outputs": [
    {
     "data": {
      "text/html": [
       "<div>\n",
       "<style scoped>\n",
       "    .dataframe tbody tr th:only-of-type {\n",
       "        vertical-align: middle;\n",
       "    }\n",
       "\n",
       "    .dataframe tbody tr th {\n",
       "        vertical-align: top;\n",
       "    }\n",
       "\n",
       "    .dataframe thead th {\n",
       "        text-align: right;\n",
       "    }\n",
       "</style>\n",
       "<table border=\"1\" class=\"dataframe\">\n",
       "  <thead>\n",
       "    <tr style=\"text-align: right;\">\n",
       "      <th></th>\n",
       "      <th>passenger_count</th>\n",
       "      <th>store_and_fwd_flag</th>\n",
       "      <th>pickup_longitude</th>\n",
       "      <th>pickup_latitude</th>\n",
       "      <th>dropoff_longitude</th>\n",
       "      <th>dropoff_latitude</th>\n",
       "      <th>week</th>\n",
       "      <th>weekday</th>\n",
       "      <th>hour</th>\n",
       "      <th>month</th>\n",
       "    </tr>\n",
       "  </thead>\n",
       "  <tbody>\n",
       "    <tr>\n",
       "      <th>0</th>\n",
       "      <td>1</td>\n",
       "      <td>0</td>\n",
       "      <td>-73.988129</td>\n",
       "      <td>40.732029</td>\n",
       "      <td>-73.990173</td>\n",
       "      <td>40.756680</td>\n",
       "      <td>26</td>\n",
       "      <td>3</td>\n",
       "      <td>23</td>\n",
       "      <td>6</td>\n",
       "    </tr>\n",
       "    <tr>\n",
       "      <th>1</th>\n",
       "      <td>1</td>\n",
       "      <td>0</td>\n",
       "      <td>-73.964203</td>\n",
       "      <td>40.679993</td>\n",
       "      <td>-73.959808</td>\n",
       "      <td>40.655403</td>\n",
       "      <td>26</td>\n",
       "      <td>3</td>\n",
       "      <td>23</td>\n",
       "      <td>6</td>\n",
       "    </tr>\n",
       "    <tr>\n",
       "      <th>2</th>\n",
       "      <td>1</td>\n",
       "      <td>0</td>\n",
       "      <td>-73.997437</td>\n",
       "      <td>40.737583</td>\n",
       "      <td>-73.986160</td>\n",
       "      <td>40.729523</td>\n",
       "      <td>26</td>\n",
       "      <td>3</td>\n",
       "      <td>23</td>\n",
       "      <td>6</td>\n",
       "    </tr>\n",
       "    <tr>\n",
       "      <th>3</th>\n",
       "      <td>1</td>\n",
       "      <td>0</td>\n",
       "      <td>-73.956070</td>\n",
       "      <td>40.771900</td>\n",
       "      <td>-73.986427</td>\n",
       "      <td>40.730469</td>\n",
       "      <td>26</td>\n",
       "      <td>3</td>\n",
       "      <td>23</td>\n",
       "      <td>6</td>\n",
       "    </tr>\n",
       "    <tr>\n",
       "      <th>4</th>\n",
       "      <td>1</td>\n",
       "      <td>0</td>\n",
       "      <td>-73.970215</td>\n",
       "      <td>40.761475</td>\n",
       "      <td>-73.961510</td>\n",
       "      <td>40.755890</td>\n",
       "      <td>26</td>\n",
       "      <td>3</td>\n",
       "      <td>23</td>\n",
       "      <td>6</td>\n",
       "    </tr>\n",
       "    <tr>\n",
       "      <th>5</th>\n",
       "      <td>1</td>\n",
       "      <td>0</td>\n",
       "      <td>-73.991302</td>\n",
       "      <td>40.749798</td>\n",
       "      <td>-73.980515</td>\n",
       "      <td>40.786549</td>\n",
       "      <td>26</td>\n",
       "      <td>3</td>\n",
       "      <td>23</td>\n",
       "      <td>6</td>\n",
       "    </tr>\n",
       "    <tr>\n",
       "      <th>6</th>\n",
       "      <td>1</td>\n",
       "      <td>0</td>\n",
       "      <td>-73.978310</td>\n",
       "      <td>40.741550</td>\n",
       "      <td>-73.952072</td>\n",
       "      <td>40.717003</td>\n",
       "      <td>26</td>\n",
       "      <td>3</td>\n",
       "      <td>23</td>\n",
       "      <td>6</td>\n",
       "    </tr>\n",
       "    <tr>\n",
       "      <th>7</th>\n",
       "      <td>2</td>\n",
       "      <td>0</td>\n",
       "      <td>-74.012711</td>\n",
       "      <td>40.701527</td>\n",
       "      <td>-73.986481</td>\n",
       "      <td>40.719509</td>\n",
       "      <td>26</td>\n",
       "      <td>3</td>\n",
       "      <td>23</td>\n",
       "      <td>6</td>\n",
       "    </tr>\n",
       "    <tr>\n",
       "      <th>8</th>\n",
       "      <td>2</td>\n",
       "      <td>0</td>\n",
       "      <td>-73.992332</td>\n",
       "      <td>40.730511</td>\n",
       "      <td>-73.875618</td>\n",
       "      <td>40.875214</td>\n",
       "      <td>26</td>\n",
       "      <td>3</td>\n",
       "      <td>23</td>\n",
       "      <td>6</td>\n",
       "    </tr>\n",
       "    <tr>\n",
       "      <th>9</th>\n",
       "      <td>1</td>\n",
       "      <td>0</td>\n",
       "      <td>-73.993179</td>\n",
       "      <td>40.748760</td>\n",
       "      <td>-73.979309</td>\n",
       "      <td>40.761311</td>\n",
       "      <td>26</td>\n",
       "      <td>3</td>\n",
       "      <td>23</td>\n",
       "      <td>6</td>\n",
       "    </tr>\n",
       "    <tr>\n",
       "      <th>10</th>\n",
       "      <td>4</td>\n",
       "      <td>0</td>\n",
       "      <td>-73.968529</td>\n",
       "      <td>40.678432</td>\n",
       "      <td>-73.966591</td>\n",
       "      <td>40.635712</td>\n",
       "      <td>26</td>\n",
       "      <td>3</td>\n",
       "      <td>23</td>\n",
       "      <td>6</td>\n",
       "    </tr>\n",
       "    <tr>\n",
       "      <th>11</th>\n",
       "      <td>1</td>\n",
       "      <td>0</td>\n",
       "      <td>-73.982773</td>\n",
       "      <td>40.756908</td>\n",
       "      <td>-73.974693</td>\n",
       "      <td>40.753330</td>\n",
       "      <td>26</td>\n",
       "      <td>3</td>\n",
       "      <td>23</td>\n",
       "      <td>6</td>\n",
       "    </tr>\n",
       "    <tr>\n",
       "      <th>12</th>\n",
       "      <td>1</td>\n",
       "      <td>0</td>\n",
       "      <td>-73.921104</td>\n",
       "      <td>40.767292</td>\n",
       "      <td>-73.936859</td>\n",
       "      <td>40.774044</td>\n",
       "      <td>26</td>\n",
       "      <td>3</td>\n",
       "      <td>23</td>\n",
       "      <td>6</td>\n",
       "    </tr>\n",
       "    <tr>\n",
       "      <th>13</th>\n",
       "      <td>1</td>\n",
       "      <td>0</td>\n",
       "      <td>-73.986801</td>\n",
       "      <td>40.734917</td>\n",
       "      <td>-73.975899</td>\n",
       "      <td>40.756893</td>\n",
       "      <td>26</td>\n",
       "      <td>3</td>\n",
       "      <td>23</td>\n",
       "      <td>6</td>\n",
       "    </tr>\n",
       "    <tr>\n",
       "      <th>14</th>\n",
       "      <td>1</td>\n",
       "      <td>0</td>\n",
       "      <td>-73.996346</td>\n",
       "      <td>40.748161</td>\n",
       "      <td>-73.950829</td>\n",
       "      <td>40.782825</td>\n",
       "      <td>26</td>\n",
       "      <td>3</td>\n",
       "      <td>23</td>\n",
       "      <td>6</td>\n",
       "    </tr>\n",
       "    <tr>\n",
       "      <th>15</th>\n",
       "      <td>1</td>\n",
       "      <td>0</td>\n",
       "      <td>-73.968025</td>\n",
       "      <td>40.762283</td>\n",
       "      <td>-73.934792</td>\n",
       "      <td>40.797436</td>\n",
       "      <td>26</td>\n",
       "      <td>3</td>\n",
       "      <td>23</td>\n",
       "      <td>6</td>\n",
       "    </tr>\n",
       "    <tr>\n",
       "      <th>16</th>\n",
       "      <td>1</td>\n",
       "      <td>0</td>\n",
       "      <td>-74.007713</td>\n",
       "      <td>40.740681</td>\n",
       "      <td>-73.968811</td>\n",
       "      <td>40.753860</td>\n",
       "      <td>26</td>\n",
       "      <td>3</td>\n",
       "      <td>23</td>\n",
       "      <td>6</td>\n",
       "    </tr>\n",
       "    <tr>\n",
       "      <th>17</th>\n",
       "      <td>5</td>\n",
       "      <td>0</td>\n",
       "      <td>-73.984299</td>\n",
       "      <td>40.724983</td>\n",
       "      <td>-73.981819</td>\n",
       "      <td>40.740597</td>\n",
       "      <td>26</td>\n",
       "      <td>3</td>\n",
       "      <td>23</td>\n",
       "      <td>6</td>\n",
       "    </tr>\n",
       "    <tr>\n",
       "      <th>18</th>\n",
       "      <td>1</td>\n",
       "      <td>0</td>\n",
       "      <td>-73.952599</td>\n",
       "      <td>40.768322</td>\n",
       "      <td>-73.948555</td>\n",
       "      <td>40.773724</td>\n",
       "      <td>26</td>\n",
       "      <td>3</td>\n",
       "      <td>23</td>\n",
       "      <td>6</td>\n",
       "    </tr>\n",
       "    <tr>\n",
       "      <th>19</th>\n",
       "      <td>1</td>\n",
       "      <td>0</td>\n",
       "      <td>-73.966690</td>\n",
       "      <td>40.794090</td>\n",
       "      <td>-73.920776</td>\n",
       "      <td>40.830059</td>\n",
       "      <td>26</td>\n",
       "      <td>3</td>\n",
       "      <td>23</td>\n",
       "      <td>6</td>\n",
       "    </tr>\n",
       "  </tbody>\n",
       "</table>\n",
       "</div>"
      ],
      "text/plain": [
       "    passenger_count  store_and_fwd_flag  ...    hour  month\n",
       "0                 1                   0  ...      23      6\n",
       "1                 1                   0  ...      23      6\n",
       "2                 1                   0  ...      23      6\n",
       "3                 1                   0  ...      23      6\n",
       "4                 1                   0  ...      23      6\n",
       "5                 1                   0  ...      23      6\n",
       "6                 1                   0  ...      23      6\n",
       "7                 2                   0  ...      23      6\n",
       "8                 2                   0  ...      23      6\n",
       "9                 1                   0  ...      23      6\n",
       "10                4                   0  ...      23      6\n",
       "11                1                   0  ...      23      6\n",
       "12                1                   0  ...      23      6\n",
       "13                1                   0  ...      23      6\n",
       "14                1                   0  ...      23      6\n",
       "15                1                   0  ...      23      6\n",
       "16                1                   0  ...      23      6\n",
       "17                5                   0  ...      23      6\n",
       "18                1                   0  ...      23      6\n",
       "19                1                   0  ...      23      6\n",
       "\n",
       "[20 rows x 10 columns]"
      ]
     },
     "execution_count": 47,
     "metadata": {},
     "output_type": "execute_result"
    }
   ],
   "source": [
    "X_test.head(20)"
   ]
  },
  {
   "cell_type": "markdown",
   "metadata": {
    "_uuid": "ce7948756961c18e0eea78f11a9e8b36ef302c92"
   },
   "source": [
    "Pour réaliser le modeling Nous allons Train avec RandomForestRegressor"
   ]
  },
  {
   "cell_type": "code",
   "execution_count": 48,
   "metadata": {
    "_uuid": "ec56b1687fbfd2d198c1eea76eef261eb17e05b8"
   },
   "outputs": [],
   "source": [
    "from sklearn.ensemble import RandomForestRegressor"
   ]
  },
  {
   "cell_type": "code",
   "execution_count": 49,
   "metadata": {
    "_uuid": "3eba493120324f731c71a722cc4e47c3309bb2e6"
   },
   "outputs": [
    {
     "data": {
      "text/plain": [
       "RandomForestRegressor(bootstrap=True, criterion='mse', max_depth=None,\n",
       "           max_features='auto', max_leaf_nodes=None,\n",
       "           min_impurity_decrease=0.0, min_impurity_split=None,\n",
       "           min_samples_leaf=1, min_samples_split=2,\n",
       "           min_weight_fraction_leaf=0.0, n_estimators=20, n_jobs=None,\n",
       "           oob_score=False, random_state=None, verbose=0, warm_start=False)"
      ]
     },
     "execution_count": 49,
     "metadata": {},
     "output_type": "execute_result"
    }
   ],
   "source": [
    "mrf = RandomForestRegressor(n_estimators=20)\n",
    "mrf.fit(X_train, y_train)"
   ]
  },
  {
   "cell_type": "markdown",
   "metadata": {
    "_uuid": "6feb41feb8a1378312b5e4b5a0c220534bb34acc"
   },
   "source": [
    "Passer à la validation "
   ]
  },
  {
   "cell_type": "code",
   "execution_count": 50,
   "metadata": {
    "_uuid": "9a3376031e74a3188e00413c629073a6402a9d9e"
   },
   "outputs": [],
   "source": [
    "from sklearn.model_selection import cross_val_score"
   ]
  },
  {
   "cell_type": "code",
   "execution_count": 51,
   "metadata": {
    "_uuid": "7dc73db2fbfdeaeed591e5f5bc810f551866a42c"
   },
   "outputs": [],
   "source": [
    "#crossval_scores = cross_val_score(mrf, X_train, y_train, cv=5, scoring='neg_mean_squared_log_error')\n",
    "#crossval_scores"
   ]
  },
  {
   "cell_type": "code",
   "execution_count": 52,
   "metadata": {
    "_uuid": "21664f0505b96672956fe3236ee856d0ce4a0259"
   },
   "outputs": [],
   "source": [
    "#for i in range(len(crossval_scores)):\n",
    "#    crossval_scores[i] = np.sqrt(abs(crossval_scores[i]))\n",
    "#crossval_scores"
   ]
  },
  {
   "cell_type": "markdown",
   "metadata": {
    "_uuid": "2eaa7cc33e7ceec0def7d9270be5f6f8d4ad2a25"
   },
   "source": [
    "Nous allons réaliser les prédictions!!"
   ]
  },
  {
   "cell_type": "code",
   "execution_count": 53,
   "metadata": {
    "_uuid": "930497d757fc1f4a596fb7e904512b5deac5259a"
   },
   "outputs": [
    {
     "data": {
      "text/plain": [
       "array([6.59969527, 6.39229535, 6.36592922, 6.97869435, 5.98769785])"
      ]
     },
     "execution_count": 53,
     "metadata": {},
     "output_type": "execute_result"
    }
   ],
   "source": [
    "y_test_pred = mrf.predict(X_test)\n",
    "y_test_pred[:5]"
   ]
  },
  {
   "cell_type": "markdown",
   "metadata": {
    "_uuid": "2905e9ed1b4479a05c129269feec43e11fa69064"
   },
   "source": [
    "On va Submit !!!"
   ]
  },
  {
   "cell_type": "code",
   "execution_count": 54,
   "metadata": {
    "_uuid": "2de9f0085498ee43964e3e598d386b57a68739a0"
   },
   "outputs": [
    {
     "data": {
      "text/html": [
       "<div>\n",
       "<style scoped>\n",
       "    .dataframe tbody tr th:only-of-type {\n",
       "        vertical-align: middle;\n",
       "    }\n",
       "\n",
       "    .dataframe tbody tr th {\n",
       "        vertical-align: top;\n",
       "    }\n",
       "\n",
       "    .dataframe thead th {\n",
       "        text-align: right;\n",
       "    }\n",
       "</style>\n",
       "<table border=\"1\" class=\"dataframe\">\n",
       "  <thead>\n",
       "    <tr style=\"text-align: right;\">\n",
       "      <th></th>\n",
       "      <th>id</th>\n",
       "      <th>trip_duration</th>\n",
       "    </tr>\n",
       "  </thead>\n",
       "  <tbody>\n",
       "    <tr>\n",
       "      <th>0</th>\n",
       "      <td>id3004672</td>\n",
       "      <td>959</td>\n",
       "    </tr>\n",
       "    <tr>\n",
       "      <th>1</th>\n",
       "      <td>id3505355</td>\n",
       "      <td>959</td>\n",
       "    </tr>\n",
       "    <tr>\n",
       "      <th>2</th>\n",
       "      <td>id1217141</td>\n",
       "      <td>959</td>\n",
       "    </tr>\n",
       "    <tr>\n",
       "      <th>3</th>\n",
       "      <td>id2150126</td>\n",
       "      <td>959</td>\n",
       "    </tr>\n",
       "    <tr>\n",
       "      <th>4</th>\n",
       "      <td>id1598245</td>\n",
       "      <td>959</td>\n",
       "    </tr>\n",
       "  </tbody>\n",
       "</table>\n",
       "</div>"
      ],
      "text/plain": [
       "          id  trip_duration\n",
       "0  id3004672            959\n",
       "1  id3505355            959\n",
       "2  id1217141            959\n",
       "3  id2150126            959\n",
       "4  id1598245            959"
      ]
     },
     "execution_count": 54,
     "metadata": {},
     "output_type": "execute_result"
    }
   ],
   "source": [
    "submission = pd.read_csv('../input/sample_submission.csv')\n",
    "submission.head()"
   ]
  },
  {
   "cell_type": "code",
   "execution_count": 55,
   "metadata": {
    "_uuid": "11c1a7bade699e1376347cf40fd8e945bf9451d4"
   },
   "outputs": [],
   "source": [
    "submission['trip_duration']= np.exp(y_test_pred)\n",
    "submission.to_csv('asmasem_submission.csv', index=False)"
   ]
  },
  {
   "cell_type": "code",
   "execution_count": 56,
   "metadata": {
    "_uuid": "3a82b96131ccf38a6e61a3ff61f4904b134e3a28"
   },
   "outputs": [
    {
     "data": {
      "text/html": [
       "<div>\n",
       "<style scoped>\n",
       "    .dataframe tbody tr th:only-of-type {\n",
       "        vertical-align: middle;\n",
       "    }\n",
       "\n",
       "    .dataframe tbody tr th {\n",
       "        vertical-align: top;\n",
       "    }\n",
       "\n",
       "    .dataframe thead th {\n",
       "        text-align: right;\n",
       "    }\n",
       "</style>\n",
       "<table border=\"1\" class=\"dataframe\">\n",
       "  <thead>\n",
       "    <tr style=\"text-align: right;\">\n",
       "      <th></th>\n",
       "      <th>id</th>\n",
       "      <th>trip_duration</th>\n",
       "    </tr>\n",
       "  </thead>\n",
       "  <tbody>\n",
       "    <tr>\n",
       "      <th>0</th>\n",
       "      <td>id3004672</td>\n",
       "      <td>734.871218</td>\n",
       "    </tr>\n",
       "    <tr>\n",
       "      <th>1</th>\n",
       "      <td>id3505355</td>\n",
       "      <td>597.225850</td>\n",
       "    </tr>\n",
       "    <tr>\n",
       "      <th>2</th>\n",
       "      <td>id1217141</td>\n",
       "      <td>581.685091</td>\n",
       "    </tr>\n",
       "    <tr>\n",
       "      <th>3</th>\n",
       "      <td>id2150126</td>\n",
       "      <td>1073.515820</td>\n",
       "    </tr>\n",
       "    <tr>\n",
       "      <th>4</th>\n",
       "      <td>id1598245</td>\n",
       "      <td>398.496156</td>\n",
       "    </tr>\n",
       "    <tr>\n",
       "      <th>5</th>\n",
       "      <td>id0668992</td>\n",
       "      <td>979.328672</td>\n",
       "    </tr>\n",
       "    <tr>\n",
       "      <th>6</th>\n",
       "      <td>id1765014</td>\n",
       "      <td>1361.776106</td>\n",
       "    </tr>\n",
       "    <tr>\n",
       "      <th>7</th>\n",
       "      <td>id0898117</td>\n",
       "      <td>674.341228</td>\n",
       "    </tr>\n",
       "    <tr>\n",
       "      <th>8</th>\n",
       "      <td>id3905224</td>\n",
       "      <td>2500.687348</td>\n",
       "    </tr>\n",
       "    <tr>\n",
       "      <th>9</th>\n",
       "      <td>id1543102</td>\n",
       "      <td>658.858722</td>\n",
       "    </tr>\n",
       "  </tbody>\n",
       "</table>\n",
       "</div>"
      ],
      "text/plain": [
       "          id  trip_duration\n",
       "0  id3004672     734.871218\n",
       "1  id3505355     597.225850\n",
       "2  id1217141     581.685091\n",
       "3  id2150126    1073.515820\n",
       "4  id1598245     398.496156\n",
       "5  id0668992     979.328672\n",
       "6  id1765014    1361.776106\n",
       "7  id0898117     674.341228\n",
       "8  id3905224    2500.687348\n",
       "9  id1543102     658.858722"
      ]
     },
     "execution_count": 56,
     "metadata": {},
     "output_type": "execute_result"
    }
   ],
   "source": [
    "submission.head(10)"
   ]
  },
  {
   "cell_type": "code",
   "execution_count": 57,
   "metadata": {
    "_uuid": "9db789366139f2c2f2b27c3e459bba41f263f840"
   },
   "outputs": [],
   "source": []
  }
 ],
 "metadata": {
  "kernelspec": {
   "display_name": "Python 3",
   "language": "python",
   "name": "python3"
  },
  "language_info": {
   "codemirror_mode": {
    "name": "ipython",
    "version": 3
   },
   "file_extension": ".py",
   "mimetype": "text/x-python",
   "name": "python",
   "nbconvert_exporter": "python",
   "pygments_lexer": "ipython3",
   "version": "3.6.6"
  }
 },
 "nbformat": 4,
 "nbformat_minor": 1
}
